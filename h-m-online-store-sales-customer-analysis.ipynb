{
 "cells": [
  {
   "cell_type": "code",
   "execution_count": 1,
   "id": "46a6eda4",
   "metadata": {
    "_cell_guid": "b1076dfc-b9ad-4769-8c92-a6c4dae69d19",
    "_uuid": "8f2839f25d086af736a60e9eeb907d3b93b6e0e5",
    "execution": {
     "iopub.execute_input": "2022-03-02T06:27:36.330293Z",
     "iopub.status.busy": "2022-03-02T06:27:36.329625Z",
     "iopub.status.idle": "2022-03-02T06:27:37.367245Z",
     "shell.execute_reply": "2022-03-02T06:27:37.367745Z",
     "shell.execute_reply.started": "2022-03-02T06:18:34.986328Z"
    },
    "papermill": {
     "duration": 1.113778,
     "end_time": "2022-03-02T06:27:37.368057",
     "exception": false,
     "start_time": "2022-03-02T06:27:36.254279",
     "status": "completed"
    },
    "tags": []
   },
   "outputs": [],
   "source": [
    "import numpy as np \n",
    "import pandas as pd \n",
    "\n",
    "import matplotlib.pyplot as plt\n",
    "import seaborn as sns"
   ]
  },
  {
   "cell_type": "markdown",
   "id": "4df0981d",
   "metadata": {
    "papermill": {
     "duration": 0.053858,
     "end_time": "2022-03-02T06:27:37.475507",
     "exception": false,
     "start_time": "2022-03-02T06:27:37.421649",
     "status": "completed"
    },
    "tags": []
   },
   "source": [
    "# Data Preprocessing\n",
    "### Articles"
   ]
  },
  {
   "cell_type": "code",
   "execution_count": 2,
   "id": "99bdd9de",
   "metadata": {
    "execution": {
     "iopub.execute_input": "2022-03-02T06:27:37.584402Z",
     "iopub.status.busy": "2022-03-02T06:27:37.583756Z",
     "iopub.status.idle": "2022-03-02T06:27:39.195248Z",
     "shell.execute_reply": "2022-03-02T06:27:39.194393Z",
     "shell.execute_reply.started": "2022-03-02T06:18:36.013974Z"
    },
    "papermill": {
     "duration": 1.66757,
     "end_time": "2022-03-02T06:27:39.195468",
     "exception": false,
     "start_time": "2022-03-02T06:27:37.527898",
     "status": "completed"
    },
    "tags": []
   },
   "outputs": [
    {
     "data": {
      "text/html": [
       "<div>\n",
       "<style scoped>\n",
       "    .dataframe tbody tr th:only-of-type {\n",
       "        vertical-align: middle;\n",
       "    }\n",
       "\n",
       "    .dataframe tbody tr th {\n",
       "        vertical-align: top;\n",
       "    }\n",
       "\n",
       "    .dataframe thead th {\n",
       "        text-align: right;\n",
       "    }\n",
       "</style>\n",
       "<table border=\"1\" class=\"dataframe\">\n",
       "  <thead>\n",
       "    <tr style=\"text-align: right;\">\n",
       "      <th></th>\n",
       "      <th>article_id</th>\n",
       "      <th>product_code</th>\n",
       "      <th>prod_name</th>\n",
       "      <th>product_type_no</th>\n",
       "      <th>product_type_name</th>\n",
       "      <th>product_group_name</th>\n",
       "      <th>graphical_appearance_no</th>\n",
       "      <th>graphical_appearance_name</th>\n",
       "      <th>colour_group_code</th>\n",
       "      <th>colour_group_name</th>\n",
       "      <th>...</th>\n",
       "      <th>department_name</th>\n",
       "      <th>index_code</th>\n",
       "      <th>index_name</th>\n",
       "      <th>index_group_no</th>\n",
       "      <th>index_group_name</th>\n",
       "      <th>section_no</th>\n",
       "      <th>section_name</th>\n",
       "      <th>garment_group_no</th>\n",
       "      <th>garment_group_name</th>\n",
       "      <th>detail_desc</th>\n",
       "    </tr>\n",
       "  </thead>\n",
       "  <tbody>\n",
       "    <tr>\n",
       "      <th>0</th>\n",
       "      <td>108775015</td>\n",
       "      <td>108775</td>\n",
       "      <td>Strap top</td>\n",
       "      <td>253</td>\n",
       "      <td>Vest top</td>\n",
       "      <td>Garment Upper body</td>\n",
       "      <td>1010016</td>\n",
       "      <td>Solid</td>\n",
       "      <td>9</td>\n",
       "      <td>Black</td>\n",
       "      <td>...</td>\n",
       "      <td>Jersey Basic</td>\n",
       "      <td>A</td>\n",
       "      <td>Ladieswear</td>\n",
       "      <td>1</td>\n",
       "      <td>Ladieswear</td>\n",
       "      <td>16</td>\n",
       "      <td>Womens Everyday Basics</td>\n",
       "      <td>1002</td>\n",
       "      <td>Jersey Basic</td>\n",
       "      <td>Jersey top with narrow shoulder straps.</td>\n",
       "    </tr>\n",
       "    <tr>\n",
       "      <th>1</th>\n",
       "      <td>108775044</td>\n",
       "      <td>108775</td>\n",
       "      <td>Strap top</td>\n",
       "      <td>253</td>\n",
       "      <td>Vest top</td>\n",
       "      <td>Garment Upper body</td>\n",
       "      <td>1010016</td>\n",
       "      <td>Solid</td>\n",
       "      <td>10</td>\n",
       "      <td>White</td>\n",
       "      <td>...</td>\n",
       "      <td>Jersey Basic</td>\n",
       "      <td>A</td>\n",
       "      <td>Ladieswear</td>\n",
       "      <td>1</td>\n",
       "      <td>Ladieswear</td>\n",
       "      <td>16</td>\n",
       "      <td>Womens Everyday Basics</td>\n",
       "      <td>1002</td>\n",
       "      <td>Jersey Basic</td>\n",
       "      <td>Jersey top with narrow shoulder straps.</td>\n",
       "    </tr>\n",
       "    <tr>\n",
       "      <th>2</th>\n",
       "      <td>108775051</td>\n",
       "      <td>108775</td>\n",
       "      <td>Strap top (1)</td>\n",
       "      <td>253</td>\n",
       "      <td>Vest top</td>\n",
       "      <td>Garment Upper body</td>\n",
       "      <td>1010017</td>\n",
       "      <td>Stripe</td>\n",
       "      <td>11</td>\n",
       "      <td>Off White</td>\n",
       "      <td>...</td>\n",
       "      <td>Jersey Basic</td>\n",
       "      <td>A</td>\n",
       "      <td>Ladieswear</td>\n",
       "      <td>1</td>\n",
       "      <td>Ladieswear</td>\n",
       "      <td>16</td>\n",
       "      <td>Womens Everyday Basics</td>\n",
       "      <td>1002</td>\n",
       "      <td>Jersey Basic</td>\n",
       "      <td>Jersey top with narrow shoulder straps.</td>\n",
       "    </tr>\n",
       "    <tr>\n",
       "      <th>3</th>\n",
       "      <td>110065001</td>\n",
       "      <td>110065</td>\n",
       "      <td>OP T-shirt (Idro)</td>\n",
       "      <td>306</td>\n",
       "      <td>Bra</td>\n",
       "      <td>Underwear</td>\n",
       "      <td>1010016</td>\n",
       "      <td>Solid</td>\n",
       "      <td>9</td>\n",
       "      <td>Black</td>\n",
       "      <td>...</td>\n",
       "      <td>Clean Lingerie</td>\n",
       "      <td>B</td>\n",
       "      <td>Lingeries/Tights</td>\n",
       "      <td>1</td>\n",
       "      <td>Ladieswear</td>\n",
       "      <td>61</td>\n",
       "      <td>Womens Lingerie</td>\n",
       "      <td>1017</td>\n",
       "      <td>Under-, Nightwear</td>\n",
       "      <td>Microfibre T-shirt bra with underwired, moulde...</td>\n",
       "    </tr>\n",
       "    <tr>\n",
       "      <th>4</th>\n",
       "      <td>110065002</td>\n",
       "      <td>110065</td>\n",
       "      <td>OP T-shirt (Idro)</td>\n",
       "      <td>306</td>\n",
       "      <td>Bra</td>\n",
       "      <td>Underwear</td>\n",
       "      <td>1010016</td>\n",
       "      <td>Solid</td>\n",
       "      <td>10</td>\n",
       "      <td>White</td>\n",
       "      <td>...</td>\n",
       "      <td>Clean Lingerie</td>\n",
       "      <td>B</td>\n",
       "      <td>Lingeries/Tights</td>\n",
       "      <td>1</td>\n",
       "      <td>Ladieswear</td>\n",
       "      <td>61</td>\n",
       "      <td>Womens Lingerie</td>\n",
       "      <td>1017</td>\n",
       "      <td>Under-, Nightwear</td>\n",
       "      <td>Microfibre T-shirt bra with underwired, moulde...</td>\n",
       "    </tr>\n",
       "  </tbody>\n",
       "</table>\n",
       "<p>5 rows × 25 columns</p>\n",
       "</div>"
      ],
      "text/plain": [
       "   article_id  product_code          prod_name  product_type_no  \\\n",
       "0   108775015        108775          Strap top              253   \n",
       "1   108775044        108775          Strap top              253   \n",
       "2   108775051        108775      Strap top (1)              253   \n",
       "3   110065001        110065  OP T-shirt (Idro)              306   \n",
       "4   110065002        110065  OP T-shirt (Idro)              306   \n",
       "\n",
       "  product_type_name  product_group_name  graphical_appearance_no  \\\n",
       "0          Vest top  Garment Upper body                  1010016   \n",
       "1          Vest top  Garment Upper body                  1010016   \n",
       "2          Vest top  Garment Upper body                  1010017   \n",
       "3               Bra           Underwear                  1010016   \n",
       "4               Bra           Underwear                  1010016   \n",
       "\n",
       "  graphical_appearance_name  colour_group_code colour_group_name  ...  \\\n",
       "0                     Solid                  9             Black  ...   \n",
       "1                     Solid                 10             White  ...   \n",
       "2                    Stripe                 11         Off White  ...   \n",
       "3                     Solid                  9             Black  ...   \n",
       "4                     Solid                 10             White  ...   \n",
       "\n",
       "   department_name index_code        index_name index_group_no  \\\n",
       "0     Jersey Basic          A        Ladieswear              1   \n",
       "1     Jersey Basic          A        Ladieswear              1   \n",
       "2     Jersey Basic          A        Ladieswear              1   \n",
       "3   Clean Lingerie          B  Lingeries/Tights              1   \n",
       "4   Clean Lingerie          B  Lingeries/Tights              1   \n",
       "\n",
       "   index_group_name section_no            section_name garment_group_no  \\\n",
       "0        Ladieswear         16  Womens Everyday Basics             1002   \n",
       "1        Ladieswear         16  Womens Everyday Basics             1002   \n",
       "2        Ladieswear         16  Womens Everyday Basics             1002   \n",
       "3        Ladieswear         61         Womens Lingerie             1017   \n",
       "4        Ladieswear         61         Womens Lingerie             1017   \n",
       "\n",
       "   garment_group_name                                        detail_desc  \n",
       "0        Jersey Basic            Jersey top with narrow shoulder straps.  \n",
       "1        Jersey Basic            Jersey top with narrow shoulder straps.  \n",
       "2        Jersey Basic            Jersey top with narrow shoulder straps.  \n",
       "3   Under-, Nightwear  Microfibre T-shirt bra with underwired, moulde...  \n",
       "4   Under-, Nightwear  Microfibre T-shirt bra with underwired, moulde...  \n",
       "\n",
       "[5 rows x 25 columns]"
      ]
     },
     "metadata": {},
     "output_type": "display_data"
    },
    {
     "name": "stdout",
     "output_type": "stream",
     "text": [
      "\n",
      "<class 'pandas.core.frame.DataFrame'>\n",
      "Int64Index: 105542 entries, 0 to 105541\n",
      "Data columns (total 25 columns):\n",
      " #   Column                        Non-Null Count   Dtype \n",
      "---  ------                        --------------   ----- \n",
      " 0   article_id                    105542 non-null  int32 \n",
      " 1   product_code                  105542 non-null  int64 \n",
      " 2   prod_name                     105542 non-null  object\n",
      " 3   product_type_no               105542 non-null  int64 \n",
      " 4   product_type_name             105542 non-null  object\n",
      " 5   product_group_name            105542 non-null  object\n",
      " 6   graphical_appearance_no       105542 non-null  int64 \n",
      " 7   graphical_appearance_name     105542 non-null  object\n",
      " 8   colour_group_code             105542 non-null  int64 \n",
      " 9   colour_group_name             105542 non-null  object\n",
      " 10  perceived_colour_value_id     105542 non-null  int64 \n",
      " 11  perceived_colour_value_name   105542 non-null  object\n",
      " 12  perceived_colour_master_id    105542 non-null  int64 \n",
      " 13  perceived_colour_master_name  105542 non-null  object\n",
      " 14  department_no                 105542 non-null  int64 \n",
      " 15  department_name               105542 non-null  object\n",
      " 16  index_code                    105542 non-null  object\n",
      " 17  index_name                    105542 non-null  object\n",
      " 18  index_group_no                105542 non-null  int64 \n",
      " 19  index_group_name              105542 non-null  object\n",
      " 20  section_no                    105542 non-null  int64 \n",
      " 21  section_name                  105542 non-null  object\n",
      " 22  garment_group_no              105542 non-null  int64 \n",
      " 23  garment_group_name            105542 non-null  object\n",
      " 24  detail_desc                   105126 non-null  object\n",
      "dtypes: int32(1), int64(10), object(14)\n",
      "memory usage: 20.5+ MB\n"
     ]
    },
    {
     "data": {
      "text/plain": [
       "None"
      ]
     },
     "metadata": {},
     "output_type": "display_data"
    },
    {
     "name": "stdout",
     "output_type": "stream",
     "text": [
      "\n",
      "Missing values (%):\n",
      "article_id                      0.000000\n",
      "product_code                    0.000000\n",
      "prod_name                       0.000000\n",
      "product_type_no                 0.000000\n",
      "product_type_name               0.000000\n",
      "product_group_name              0.000000\n",
      "graphical_appearance_no         0.000000\n",
      "graphical_appearance_name       0.000000\n",
      "colour_group_code               0.000000\n",
      "colour_group_name               0.000000\n",
      "perceived_colour_value_id       0.000000\n",
      "perceived_colour_value_name     0.000000\n",
      "perceived_colour_master_id      0.000000\n",
      "perceived_colour_master_name    0.000000\n",
      "department_no                   0.000000\n",
      "department_name                 0.000000\n",
      "index_code                      0.000000\n",
      "index_name                      0.000000\n",
      "index_group_no                  0.000000\n",
      "index_group_name                0.000000\n",
      "section_no                      0.000000\n",
      "section_name                    0.000000\n",
      "garment_group_no                0.000000\n",
      "garment_group_name              0.000000\n",
      "detail_desc                     0.394156\n",
      "dtype: float64\n"
     ]
    }
   ],
   "source": [
    "# read data\n",
    "df_articles = pd.read_csv(\"/kaggle/input/h-and-m-personalized-fashion-recommendations/articles.csv\")\n",
    "# drop duplicates\n",
    "df_articles.drop_duplicates(inplace=True)\n",
    "# reduce memory usage\n",
    "df_articles['article_id'] = df_articles['article_id'].astype('int32')\n",
    "# display a few rows\n",
    "display(df_articles.head())\n",
    "print()\n",
    "# display information\n",
    "display(df_articles.info())\n",
    "print()\n",
    "# missing information %\n",
    "print(\"Missing values (%):\")\n",
    "print(df_articles.isna().sum() * 100 / len(df_articles))"
   ]
  },
  {
   "cell_type": "code",
   "execution_count": 3,
   "id": "85ab06d5",
   "metadata": {
    "execution": {
     "iopub.execute_input": "2022-03-02T06:27:39.327399Z",
     "iopub.status.busy": "2022-03-02T06:27:39.326350Z",
     "iopub.status.idle": "2022-03-02T06:27:39.509326Z",
     "shell.execute_reply": "2022-03-02T06:27:39.510402Z",
     "shell.execute_reply.started": "2022-03-02T06:18:37.435044Z"
    },
    "papermill": {
     "duration": 0.246835,
     "end_time": "2022-03-02T06:27:39.510603",
     "exception": false,
     "start_time": "2022-03-02T06:27:39.263768",
     "status": "completed"
    },
    "tags": []
   },
   "outputs": [
    {
     "name": "stdout",
     "output_type": "stream",
     "text": [
      "article_id :\n",
      "  105542 distinct values\n",
      "product_code :\n",
      "  47224 distinct values\n",
      "prod_name :\n",
      "  45875 distinct values\n",
      "product_type_no :\n",
      "  132 distinct values\n",
      "product_type_name :\n",
      "  131 distinct values\n",
      "product_group_name :\n",
      "  19 distinct values\n",
      "graphical_appearance_no :\n",
      "  30 distinct values\n",
      "graphical_appearance_name :\n",
      "  30 distinct values\n",
      "colour_group_code :\n",
      "  50 distinct values\n",
      "colour_group_name :\n",
      "  50 distinct values\n",
      "perceived_colour_value_id :\n",
      "  8 distinct values\n",
      "perceived_colour_value_name :\n",
      "  8 distinct values\n",
      "perceived_colour_master_id :\n",
      "  20 distinct values\n",
      "perceived_colour_master_name :\n",
      "  20 distinct values\n",
      "department_no :\n",
      "  299 distinct values\n",
      "department_name :\n",
      "  250 distinct values\n",
      "index_code :\n",
      "  10 distinct values\n",
      "index_name :\n",
      "  10 distinct values\n",
      "index_group_no :\n",
      "  5 distinct values\n",
      "index_group_name :\n",
      "  5 distinct values\n",
      "section_no :\n",
      "  57 distinct values\n",
      "section_name :\n",
      "  56 distinct values\n",
      "garment_group_no :\n",
      "  21 distinct values\n",
      "garment_group_name :\n",
      "  21 distinct values\n",
      "detail_desc :\n",
      "  43404 distinct values\n"
     ]
    }
   ],
   "source": [
    "for col in df_articles.columns:\n",
    "    print(col, \":\")\n",
    "    print(\" \", df_articles[col].nunique(), \"distinct values\")"
   ]
  },
  {
   "cell_type": "markdown",
   "id": "2be51094",
   "metadata": {
    "papermill": {
     "duration": 0.054963,
     "end_time": "2022-03-02T06:27:39.621954",
     "exception": false,
     "start_time": "2022-03-02T06:27:39.566991",
     "status": "completed"
    },
    "tags": []
   },
   "source": [
    "### Customers"
   ]
  },
  {
   "cell_type": "code",
   "execution_count": 4,
   "id": "076bbbbb",
   "metadata": {
    "execution": {
     "iopub.execute_input": "2022-03-02T06:27:39.741593Z",
     "iopub.status.busy": "2022-03-02T06:27:39.740859Z",
     "iopub.status.idle": "2022-03-02T06:27:49.514867Z",
     "shell.execute_reply": "2022-03-02T06:27:49.513978Z",
     "shell.execute_reply.started": "2022-03-02T06:18:37.584145Z"
    },
    "papermill": {
     "duration": 9.836852,
     "end_time": "2022-03-02T06:27:49.515061",
     "exception": false,
     "start_time": "2022-03-02T06:27:39.678209",
     "status": "completed"
    },
    "tags": []
   },
   "outputs": [
    {
     "data": {
      "text/html": [
       "<div>\n",
       "<style scoped>\n",
       "    .dataframe tbody tr th:only-of-type {\n",
       "        vertical-align: middle;\n",
       "    }\n",
       "\n",
       "    .dataframe tbody tr th {\n",
       "        vertical-align: top;\n",
       "    }\n",
       "\n",
       "    .dataframe thead th {\n",
       "        text-align: right;\n",
       "    }\n",
       "</style>\n",
       "<table border=\"1\" class=\"dataframe\">\n",
       "  <thead>\n",
       "    <tr style=\"text-align: right;\">\n",
       "      <th></th>\n",
       "      <th>customer_id</th>\n",
       "      <th>FN</th>\n",
       "      <th>Active</th>\n",
       "      <th>club_member_status</th>\n",
       "      <th>fashion_news_frequency</th>\n",
       "      <th>age</th>\n",
       "      <th>postal_code</th>\n",
       "    </tr>\n",
       "  </thead>\n",
       "  <tbody>\n",
       "    <tr>\n",
       "      <th>0</th>\n",
       "      <td>6883939031699146327</td>\n",
       "      <td>NaN</td>\n",
       "      <td>NaN</td>\n",
       "      <td>ACTIVE</td>\n",
       "      <td>NONE</td>\n",
       "      <td>49.0</td>\n",
       "      <td>52043ee2162cf5aa7ee79974281641c6f11a68d276429a...</td>\n",
       "    </tr>\n",
       "    <tr>\n",
       "      <th>1</th>\n",
       "      <td>-7200416642310594310</td>\n",
       "      <td>NaN</td>\n",
       "      <td>NaN</td>\n",
       "      <td>ACTIVE</td>\n",
       "      <td>NONE</td>\n",
       "      <td>25.0</td>\n",
       "      <td>2973abc54daa8a5f8ccfe9362140c63247c5eee03f1d93...</td>\n",
       "    </tr>\n",
       "    <tr>\n",
       "      <th>2</th>\n",
       "      <td>-6846340800584936</td>\n",
       "      <td>NaN</td>\n",
       "      <td>NaN</td>\n",
       "      <td>ACTIVE</td>\n",
       "      <td>NONE</td>\n",
       "      <td>24.0</td>\n",
       "      <td>64f17e6a330a85798e4998f62d0930d14db8db1c054af6...</td>\n",
       "    </tr>\n",
       "    <tr>\n",
       "      <th>3</th>\n",
       "      <td>-94071612138601410</td>\n",
       "      <td>NaN</td>\n",
       "      <td>NaN</td>\n",
       "      <td>ACTIVE</td>\n",
       "      <td>NONE</td>\n",
       "      <td>54.0</td>\n",
       "      <td>5d36574f52495e81f019b680c843c443bd343d5ca5b1c2...</td>\n",
       "    </tr>\n",
       "    <tr>\n",
       "      <th>4</th>\n",
       "      <td>-283965518499174310</td>\n",
       "      <td>1.0</td>\n",
       "      <td>1.0</td>\n",
       "      <td>ACTIVE</td>\n",
       "      <td>Regularly</td>\n",
       "      <td>52.0</td>\n",
       "      <td>25fa5ddee9aac01b35208d01736e57942317d756b32ddd...</td>\n",
       "    </tr>\n",
       "  </tbody>\n",
       "</table>\n",
       "</div>"
      ],
      "text/plain": [
       "           customer_id   FN  Active club_member_status fashion_news_frequency  \\\n",
       "0  6883939031699146327  NaN     NaN             ACTIVE                   NONE   \n",
       "1 -7200416642310594310  NaN     NaN             ACTIVE                   NONE   \n",
       "2    -6846340800584936  NaN     NaN             ACTIVE                   NONE   \n",
       "3   -94071612138601410  NaN     NaN             ACTIVE                   NONE   \n",
       "4  -283965518499174310  1.0     1.0             ACTIVE              Regularly   \n",
       "\n",
       "    age                                        postal_code  \n",
       "0  49.0  52043ee2162cf5aa7ee79974281641c6f11a68d276429a...  \n",
       "1  25.0  2973abc54daa8a5f8ccfe9362140c63247c5eee03f1d93...  \n",
       "2  24.0  64f17e6a330a85798e4998f62d0930d14db8db1c054af6...  \n",
       "3  54.0  5d36574f52495e81f019b680c843c443bd343d5ca5b1c2...  \n",
       "4  52.0  25fa5ddee9aac01b35208d01736e57942317d756b32ddd...  "
      ]
     },
     "metadata": {},
     "output_type": "display_data"
    },
    {
     "name": "stdout",
     "output_type": "stream",
     "text": [
      "\n",
      "<class 'pandas.core.frame.DataFrame'>\n",
      "Int64Index: 1371980 entries, 0 to 1371979\n",
      "Data columns (total 7 columns):\n",
      " #   Column                  Non-Null Count    Dtype  \n",
      "---  ------                  --------------    -----  \n",
      " 0   customer_id             1371980 non-null  int64  \n",
      " 1   FN                      476930 non-null   float64\n",
      " 2   Active                  464404 non-null   float64\n",
      " 3   club_member_status      1365918 non-null  object \n",
      " 4   fashion_news_frequency  1355971 non-null  object \n",
      " 5   age                     1356119 non-null  float64\n",
      " 6   postal_code             1371980 non-null  object \n",
      "dtypes: float64(3), int64(1), object(3)\n",
      "memory usage: 83.7+ MB\n"
     ]
    },
    {
     "data": {
      "text/plain": [
       "None"
      ]
     },
     "metadata": {},
     "output_type": "display_data"
    },
    {
     "name": "stdout",
     "output_type": "stream",
     "text": [
      "\n",
      "Missing values (%):\n",
      "customer_id                0.000000\n",
      "FN                        65.237831\n",
      "Active                    66.150819\n",
      "club_member_status         0.441843\n",
      "fashion_news_frequency     1.166854\n",
      "age                        1.156066\n",
      "postal_code                0.000000\n",
      "dtype: float64\n"
     ]
    }
   ],
   "source": [
    "# read data\n",
    "df_customers = pd.read_csv(\"/kaggle/input/h-and-m-personalized-fashion-recommendations/customers.csv\")\n",
    "# drop duplicates\n",
    "df_customers.drop_duplicates(inplace=True)\n",
    "# reduce memory usage\n",
    "df_customers['customer_id'] =\\\n",
    "    df_customers['customer_id'].apply(lambda x: int(x[-16:],16) ).astype('int64')\n",
    "# display a few rows\n",
    "display(df_customers.head())\n",
    "print()\n",
    "# display information\n",
    "display(df_customers.info())\n",
    "print()\n",
    "# missing information %\n",
    "print(\"Missing values (%):\")\n",
    "print(df_customers.isna().sum() * 100 / len(df_customers))"
   ]
  },
  {
   "cell_type": "markdown",
   "id": "58c50b58",
   "metadata": {
    "papermill": {
     "duration": 0.057469,
     "end_time": "2022-03-02T06:27:49.632279",
     "exception": false,
     "start_time": "2022-03-02T06:27:49.574810",
     "status": "completed"
    },
    "tags": []
   },
   "source": [
    "### Transactions"
   ]
  },
  {
   "cell_type": "code",
   "execution_count": 5,
   "id": "bfa0f163",
   "metadata": {
    "execution": {
     "iopub.execute_input": "2022-03-02T06:27:49.757816Z",
     "iopub.status.busy": "2022-03-02T06:27:49.757104Z",
     "iopub.status.idle": "2022-03-02T06:29:43.945175Z",
     "shell.execute_reply": "2022-03-02T06:29:43.944545Z",
     "shell.execute_reply.started": "2022-03-02T06:18:45.989912Z"
    },
    "papermill": {
     "duration": 114.254185,
     "end_time": "2022-03-02T06:29:43.945337",
     "exception": false,
     "start_time": "2022-03-02T06:27:49.691152",
     "status": "completed"
    },
    "tags": []
   },
   "outputs": [
    {
     "data": {
      "text/html": [
       "<div>\n",
       "<style scoped>\n",
       "    .dataframe tbody tr th:only-of-type {\n",
       "        vertical-align: middle;\n",
       "    }\n",
       "\n",
       "    .dataframe tbody tr th {\n",
       "        vertical-align: top;\n",
       "    }\n",
       "\n",
       "    .dataframe thead th {\n",
       "        text-align: right;\n",
       "    }\n",
       "</style>\n",
       "<table border=\"1\" class=\"dataframe\">\n",
       "  <thead>\n",
       "    <tr style=\"text-align: right;\">\n",
       "      <th></th>\n",
       "      <th>t_dat</th>\n",
       "      <th>customer_id</th>\n",
       "      <th>article_id</th>\n",
       "      <th>price</th>\n",
       "      <th>sales_channel_id</th>\n",
       "      <th>year</th>\n",
       "      <th>month</th>\n",
       "      <th>day</th>\n",
       "    </tr>\n",
       "  </thead>\n",
       "  <tbody>\n",
       "    <tr>\n",
       "      <th>0</th>\n",
       "      <td>2018-09-20</td>\n",
       "      <td>-6846340800584936</td>\n",
       "      <td>663713001</td>\n",
       "      <td>0.050831</td>\n",
       "      <td>2</td>\n",
       "      <td>18</td>\n",
       "      <td>9</td>\n",
       "      <td>20</td>\n",
       "    </tr>\n",
       "    <tr>\n",
       "      <th>1</th>\n",
       "      <td>2018-09-20</td>\n",
       "      <td>-6846340800584936</td>\n",
       "      <td>541518023</td>\n",
       "      <td>0.030492</td>\n",
       "      <td>2</td>\n",
       "      <td>18</td>\n",
       "      <td>9</td>\n",
       "      <td>20</td>\n",
       "    </tr>\n",
       "    <tr>\n",
       "      <th>2</th>\n",
       "      <td>2018-09-20</td>\n",
       "      <td>-8334631767138808638</td>\n",
       "      <td>505221004</td>\n",
       "      <td>0.015237</td>\n",
       "      <td>2</td>\n",
       "      <td>18</td>\n",
       "      <td>9</td>\n",
       "      <td>20</td>\n",
       "    </tr>\n",
       "    <tr>\n",
       "      <th>3</th>\n",
       "      <td>2018-09-20</td>\n",
       "      <td>-8334631767138808638</td>\n",
       "      <td>685687003</td>\n",
       "      <td>0.016932</td>\n",
       "      <td>2</td>\n",
       "      <td>18</td>\n",
       "      <td>9</td>\n",
       "      <td>20</td>\n",
       "    </tr>\n",
       "    <tr>\n",
       "      <th>4</th>\n",
       "      <td>2018-09-20</td>\n",
       "      <td>-8334631767138808638</td>\n",
       "      <td>685687004</td>\n",
       "      <td>0.016932</td>\n",
       "      <td>2</td>\n",
       "      <td>18</td>\n",
       "      <td>9</td>\n",
       "      <td>20</td>\n",
       "    </tr>\n",
       "    <tr>\n",
       "      <th>...</th>\n",
       "      <td>...</td>\n",
       "      <td>...</td>\n",
       "      <td>...</td>\n",
       "      <td>...</td>\n",
       "      <td>...</td>\n",
       "      <td>...</td>\n",
       "      <td>...</td>\n",
       "      <td>...</td>\n",
       "    </tr>\n",
       "    <tr>\n",
       "      <th>31788319</th>\n",
       "      <td>2020-09-22</td>\n",
       "      <td>4685485978980270934</td>\n",
       "      <td>929511001</td>\n",
       "      <td>0.059305</td>\n",
       "      <td>2</td>\n",
       "      <td>20</td>\n",
       "      <td>9</td>\n",
       "      <td>22</td>\n",
       "    </tr>\n",
       "    <tr>\n",
       "      <th>31788320</th>\n",
       "      <td>2020-09-22</td>\n",
       "      <td>4685485978980270934</td>\n",
       "      <td>891322004</td>\n",
       "      <td>0.042356</td>\n",
       "      <td>2</td>\n",
       "      <td>20</td>\n",
       "      <td>9</td>\n",
       "      <td>22</td>\n",
       "    </tr>\n",
       "    <tr>\n",
       "      <th>31788321</th>\n",
       "      <td>2020-09-22</td>\n",
       "      <td>3959348689921271969</td>\n",
       "      <td>918325001</td>\n",
       "      <td>0.043203</td>\n",
       "      <td>1</td>\n",
       "      <td>20</td>\n",
       "      <td>9</td>\n",
       "      <td>22</td>\n",
       "    </tr>\n",
       "    <tr>\n",
       "      <th>31788322</th>\n",
       "      <td>2020-09-22</td>\n",
       "      <td>-8639340045377511665</td>\n",
       "      <td>833459002</td>\n",
       "      <td>0.006763</td>\n",
       "      <td>1</td>\n",
       "      <td>20</td>\n",
       "      <td>9</td>\n",
       "      <td>22</td>\n",
       "    </tr>\n",
       "    <tr>\n",
       "      <th>31788323</th>\n",
       "      <td>2020-09-22</td>\n",
       "      <td>3235222691137941515</td>\n",
       "      <td>898573003</td>\n",
       "      <td>0.033881</td>\n",
       "      <td>2</td>\n",
       "      <td>20</td>\n",
       "      <td>9</td>\n",
       "      <td>22</td>\n",
       "    </tr>\n",
       "  </tbody>\n",
       "</table>\n",
       "<p>31788324 rows × 8 columns</p>\n",
       "</div>"
      ],
      "text/plain": [
       "              t_dat          customer_id  article_id     price  \\\n",
       "0        2018-09-20    -6846340800584936   663713001  0.050831   \n",
       "1        2018-09-20    -6846340800584936   541518023  0.030492   \n",
       "2        2018-09-20 -8334631767138808638   505221004  0.015237   \n",
       "3        2018-09-20 -8334631767138808638   685687003  0.016932   \n",
       "4        2018-09-20 -8334631767138808638   685687004  0.016932   \n",
       "...             ...                  ...         ...       ...   \n",
       "31788319 2020-09-22  4685485978980270934   929511001  0.059305   \n",
       "31788320 2020-09-22  4685485978980270934   891322004  0.042356   \n",
       "31788321 2020-09-22  3959348689921271969   918325001  0.043203   \n",
       "31788322 2020-09-22 -8639340045377511665   833459002  0.006763   \n",
       "31788323 2020-09-22  3235222691137941515   898573003  0.033881   \n",
       "\n",
       "          sales_channel_id  year  month  day  \n",
       "0                        2    18      9   20  \n",
       "1                        2    18      9   20  \n",
       "2                        2    18      9   20  \n",
       "3                        2    18      9   20  \n",
       "4                        2    18      9   20  \n",
       "...                    ...   ...    ...  ...  \n",
       "31788319                 2    20      9   22  \n",
       "31788320                 2    20      9   22  \n",
       "31788321                 1    20      9   22  \n",
       "31788322                 1    20      9   22  \n",
       "31788323                 2    20      9   22  \n",
       "\n",
       "[31788324 rows x 8 columns]"
      ]
     },
     "metadata": {},
     "output_type": "display_data"
    },
    {
     "name": "stdout",
     "output_type": "stream",
     "text": [
      "\n",
      "<class 'pandas.core.frame.DataFrame'>\n",
      "RangeIndex: 31788324 entries, 0 to 31788323\n",
      "Data columns (total 8 columns):\n",
      " #   Column            Dtype         \n",
      "---  ------            -----         \n",
      " 0   t_dat             datetime64[ns]\n",
      " 1   customer_id       int64         \n",
      " 2   article_id        int32         \n",
      " 3   price             float64       \n",
      " 4   sales_channel_id  int64         \n",
      " 5   year              int8          \n",
      " 6   month             int8          \n",
      " 7   day               int8          \n",
      "dtypes: datetime64[ns](1), float64(1), int32(1), int64(2), int8(3)\n",
      "memory usage: 1.2 GB\n"
     ]
    },
    {
     "data": {
      "text/plain": [
       "None"
      ]
     },
     "metadata": {},
     "output_type": "display_data"
    },
    {
     "name": "stdout",
     "output_type": "stream",
     "text": [
      "\n",
      "Missing values (%):\n",
      "t_dat               0.0\n",
      "customer_id         0.0\n",
      "article_id          0.0\n",
      "price               0.0\n",
      "sales_channel_id    0.0\n",
      "year                0.0\n",
      "month               0.0\n",
      "day                 0.0\n",
      "dtype: float64\n"
     ]
    }
   ],
   "source": [
    "# read data\n",
    "df_transactions = pd.read_csv(\"/kaggle/input/h-and-m-personalized-fashion-recommendations/transactions_train.csv\")\n",
    "# reduce memory usage\n",
    "df_transactions['article_id'] = df_transactions['article_id'].astype('int32')\n",
    "df_transactions['customer_id'] =\\\n",
    "    df_transactions['customer_id'].apply(lambda x: int(x[-16:],16) ).astype('int64')\n",
    "# handle the date column\n",
    "df_transactions.t_dat = pd.to_datetime(df_transactions.t_dat)\n",
    "df_transactions['year'] = (df_transactions.t_dat.dt.year-2000).astype('int8')\n",
    "df_transactions['month'] = (df_transactions.t_dat.dt.month).astype('int8')\n",
    "df_transactions['day'] = (df_transactions.t_dat.dt.day).astype('int8')\n",
    "#del df_transactions['t_dat']\n",
    "# display a few rows\n",
    "display(df_transactions)\n",
    "print()\n",
    "# display information\n",
    "display(df_transactions.info())\n",
    "print()\n",
    "# missing information %\n",
    "print(\"Missing values (%):\")\n",
    "print(df_transactions.isna().sum() * 100 / len(df_transactions))"
   ]
  },
  {
   "cell_type": "markdown",
   "id": "4e15a5d6",
   "metadata": {
    "papermill": {
     "duration": 0.062282,
     "end_time": "2022-03-02T06:29:44.068489",
     "exception": false,
     "start_time": "2022-03-02T06:29:44.006207",
     "status": "completed"
    },
    "tags": []
   },
   "source": [
    "The transaction data from period **20 Sept 2018** till **22 Sept 2020** were given.\n",
    "Select full year data in **2019** for analysis."
   ]
  },
  {
   "cell_type": "code",
   "execution_count": 6,
   "id": "bac9ebae",
   "metadata": {
    "execution": {
     "iopub.execute_input": "2022-03-02T06:29:44.198088Z",
     "iopub.status.busy": "2022-03-02T06:29:44.197465Z",
     "iopub.status.idle": "2022-03-02T06:29:45.380645Z",
     "shell.execute_reply": "2022-03-02T06:29:45.380107Z",
     "shell.execute_reply.started": "2022-03-02T06:20:22.618797Z"
    },
    "papermill": {
     "duration": 1.252039,
     "end_time": "2022-03-02T06:29:45.380783",
     "exception": false,
     "start_time": "2022-03-02T06:29:44.128744",
     "status": "completed"
    },
    "tags": []
   },
   "outputs": [],
   "source": [
    "df_transactions = df_transactions[df_transactions['year']==19]"
   ]
  },
  {
   "cell_type": "markdown",
   "id": "355261b6",
   "metadata": {
    "papermill": {
     "duration": 0.059323,
     "end_time": "2022-03-02T06:29:45.499658",
     "exception": false,
     "start_time": "2022-03-02T06:29:45.440335",
     "status": "completed"
    },
    "tags": []
   },
   "source": [
    "# Data Analysis\n",
    "### Which articles are the bestsellers?"
   ]
  },
  {
   "cell_type": "code",
   "execution_count": 7,
   "id": "d09fc81c",
   "metadata": {
    "execution": {
     "iopub.execute_input": "2022-03-02T06:29:45.625308Z",
     "iopub.status.busy": "2022-03-02T06:29:45.624682Z",
     "iopub.status.idle": "2022-03-02T06:29:46.526047Z",
     "shell.execute_reply": "2022-03-02T06:29:46.526603Z",
     "shell.execute_reply.started": "2022-03-02T06:20:23.837796Z"
    },
    "papermill": {
     "duration": 0.96761,
     "end_time": "2022-03-02T06:29:46.526776",
     "exception": false,
     "start_time": "2022-03-02T06:29:45.559166",
     "status": "completed"
    },
    "tags": []
   },
   "outputs": [
    {
     "data": {
      "text/html": [
       "<div>\n",
       "<style scoped>\n",
       "    .dataframe tbody tr th:only-of-type {\n",
       "        vertical-align: middle;\n",
       "    }\n",
       "\n",
       "    .dataframe tbody tr th {\n",
       "        vertical-align: top;\n",
       "    }\n",
       "\n",
       "    .dataframe thead th {\n",
       "        text-align: right;\n",
       "    }\n",
       "</style>\n",
       "<table border=\"1\" class=\"dataframe\">\n",
       "  <thead>\n",
       "    <tr style=\"text-align: right;\">\n",
       "      <th></th>\n",
       "      <th>t_dat</th>\n",
       "      <th>customer_id</th>\n",
       "      <th>price</th>\n",
       "      <th>sales_channel_id</th>\n",
       "      <th>year</th>\n",
       "      <th>month</th>\n",
       "      <th>day</th>\n",
       "    </tr>\n",
       "    <tr>\n",
       "      <th>article_id</th>\n",
       "      <th></th>\n",
       "      <th></th>\n",
       "      <th></th>\n",
       "      <th></th>\n",
       "      <th></th>\n",
       "      <th></th>\n",
       "      <th></th>\n",
       "    </tr>\n",
       "  </thead>\n",
       "  <tbody>\n",
       "    <tr>\n",
       "      <th>706016001</th>\n",
       "      <td>29869</td>\n",
       "      <td>29869</td>\n",
       "      <td>29869</td>\n",
       "      <td>29869</td>\n",
       "      <td>29869</td>\n",
       "      <td>29869</td>\n",
       "      <td>29869</td>\n",
       "    </tr>\n",
       "    <tr>\n",
       "      <th>706016002</th>\n",
       "      <td>22293</td>\n",
       "      <td>22293</td>\n",
       "      <td>22293</td>\n",
       "      <td>22293</td>\n",
       "      <td>22293</td>\n",
       "      <td>22293</td>\n",
       "      <td>22293</td>\n",
       "    </tr>\n",
       "    <tr>\n",
       "      <th>372860001</th>\n",
       "      <td>15553</td>\n",
       "      <td>15553</td>\n",
       "      <td>15553</td>\n",
       "      <td>15553</td>\n",
       "      <td>15553</td>\n",
       "      <td>15553</td>\n",
       "      <td>15553</td>\n",
       "    </tr>\n",
       "    <tr>\n",
       "      <th>759871002</th>\n",
       "      <td>13872</td>\n",
       "      <td>13872</td>\n",
       "      <td>13872</td>\n",
       "      <td>13872</td>\n",
       "      <td>13872</td>\n",
       "      <td>13872</td>\n",
       "      <td>13872</td>\n",
       "    </tr>\n",
       "    <tr>\n",
       "      <th>464297007</th>\n",
       "      <td>12869</td>\n",
       "      <td>12869</td>\n",
       "      <td>12869</td>\n",
       "      <td>12869</td>\n",
       "      <td>12869</td>\n",
       "      <td>12869</td>\n",
       "      <td>12869</td>\n",
       "    </tr>\n",
       "  </tbody>\n",
       "</table>\n",
       "</div>"
      ],
      "text/plain": [
       "            t_dat  customer_id  price  sales_channel_id   year  month    day\n",
       "article_id                                                                  \n",
       "706016001   29869        29869  29869             29869  29869  29869  29869\n",
       "706016002   22293        22293  22293             22293  22293  22293  22293\n",
       "372860001   15553        15553  15553             15553  15553  15553  15553\n",
       "759871002   13872        13872  13872             13872  13872  13872  13872\n",
       "464297007   12869        12869  12869             12869  12869  12869  12869"
      ]
     },
     "execution_count": 7,
     "metadata": {},
     "output_type": "execute_result"
    }
   ],
   "source": [
    "bestsellers_ranking = df_transactions.groupby('article_id').count().sort_values(by='customer_id', ascending=False)\n",
    "bestsellers_ranking.head(5)"
   ]
  },
  {
   "cell_type": "markdown",
   "id": "4345bcb0",
   "metadata": {
    "execution": {
     "iopub.execute_input": "2022-02-26T09:45:37.636642Z",
     "iopub.status.busy": "2022-02-26T09:45:37.63635Z",
     "iopub.status.idle": "2022-02-26T09:45:37.64287Z",
     "shell.execute_reply": "2022-02-26T09:45:37.642254Z",
     "shell.execute_reply.started": "2022-02-26T09:45:37.636613Z"
    },
    "papermill": {
     "duration": 0.064475,
     "end_time": "2022-03-02T06:29:46.671479",
     "exception": false,
     "start_time": "2022-03-02T06:29:46.607004",
     "status": "completed"
    },
    "tags": []
   },
   "source": [
    "The top bestseller article has an average sales of 29869/365 ~= 82 units per day. The bestseller ranked number five has an average sales of 12869/365 ~= 35 units per day, which is less than half of the sales of the top bestseller."
   ]
  },
  {
   "cell_type": "code",
   "execution_count": 8,
   "id": "1d6dc1ac",
   "metadata": {
    "execution": {
     "iopub.execute_input": "2022-03-02T06:29:46.809576Z",
     "iopub.status.busy": "2022-03-02T06:29:46.808681Z",
     "iopub.status.idle": "2022-03-02T06:29:54.823911Z",
     "shell.execute_reply": "2022-03-02T06:29:54.824345Z",
     "shell.execute_reply.started": "2022-03-02T06:20:24.823120Z"
    },
    "papermill": {
     "duration": 8.085849,
     "end_time": "2022-03-02T06:29:54.824534",
     "exception": false,
     "start_time": "2022-03-02T06:29:46.738685",
     "status": "completed"
    },
    "tags": []
   },
   "outputs": [
    {
     "data": {
      "text/html": [
       "<div>\n",
       "<style scoped>\n",
       "    .dataframe tbody tr th:only-of-type {\n",
       "        vertical-align: middle;\n",
       "    }\n",
       "\n",
       "    .dataframe tbody tr th {\n",
       "        vertical-align: top;\n",
       "    }\n",
       "\n",
       "    .dataframe thead th {\n",
       "        text-align: right;\n",
       "    }\n",
       "</style>\n",
       "<table border=\"1\" class=\"dataframe\">\n",
       "  <thead>\n",
       "    <tr style=\"text-align: right;\">\n",
       "      <th></th>\n",
       "      <th>article_id</th>\n",
       "      <th>product_code</th>\n",
       "      <th>prod_name</th>\n",
       "      <th>product_type_no</th>\n",
       "      <th>product_type_name</th>\n",
       "      <th>product_group_name</th>\n",
       "      <th>graphical_appearance_no</th>\n",
       "      <th>graphical_appearance_name</th>\n",
       "      <th>colour_group_code</th>\n",
       "      <th>colour_group_name</th>\n",
       "      <th>...</th>\n",
       "      <th>index_code</th>\n",
       "      <th>index_name</th>\n",
       "      <th>index_group_no</th>\n",
       "      <th>index_group_name</th>\n",
       "      <th>section_no</th>\n",
       "      <th>section_name</th>\n",
       "      <th>garment_group_no</th>\n",
       "      <th>garment_group_name</th>\n",
       "      <th>detail_desc</th>\n",
       "      <th>total_sales_2019</th>\n",
       "    </tr>\n",
       "  </thead>\n",
       "  <tbody>\n",
       "    <tr>\n",
       "      <th>0</th>\n",
       "      <td>108775015</td>\n",
       "      <td>108775</td>\n",
       "      <td>Strap top</td>\n",
       "      <td>253</td>\n",
       "      <td>Vest top</td>\n",
       "      <td>Garment Upper body</td>\n",
       "      <td>1010016</td>\n",
       "      <td>Solid</td>\n",
       "      <td>9</td>\n",
       "      <td>Black</td>\n",
       "      <td>...</td>\n",
       "      <td>A</td>\n",
       "      <td>Ladieswear</td>\n",
       "      <td>1</td>\n",
       "      <td>Ladieswear</td>\n",
       "      <td>16</td>\n",
       "      <td>Womens Everyday Basics</td>\n",
       "      <td>1002</td>\n",
       "      <td>Jersey Basic</td>\n",
       "      <td>Jersey top with narrow shoulder straps.</td>\n",
       "      <td>5730</td>\n",
       "    </tr>\n",
       "    <tr>\n",
       "      <th>1</th>\n",
       "      <td>108775044</td>\n",
       "      <td>108775</td>\n",
       "      <td>Strap top</td>\n",
       "      <td>253</td>\n",
       "      <td>Vest top</td>\n",
       "      <td>Garment Upper body</td>\n",
       "      <td>1010016</td>\n",
       "      <td>Solid</td>\n",
       "      <td>10</td>\n",
       "      <td>White</td>\n",
       "      <td>...</td>\n",
       "      <td>A</td>\n",
       "      <td>Ladieswear</td>\n",
       "      <td>1</td>\n",
       "      <td>Ladieswear</td>\n",
       "      <td>16</td>\n",
       "      <td>Womens Everyday Basics</td>\n",
       "      <td>1002</td>\n",
       "      <td>Jersey Basic</td>\n",
       "      <td>Jersey top with narrow shoulder straps.</td>\n",
       "      <td>4993</td>\n",
       "    </tr>\n",
       "    <tr>\n",
       "      <th>2</th>\n",
       "      <td>108775051</td>\n",
       "      <td>108775</td>\n",
       "      <td>Strap top (1)</td>\n",
       "      <td>253</td>\n",
       "      <td>Vest top</td>\n",
       "      <td>Garment Upper body</td>\n",
       "      <td>1010017</td>\n",
       "      <td>Stripe</td>\n",
       "      <td>11</td>\n",
       "      <td>Off White</td>\n",
       "      <td>...</td>\n",
       "      <td>A</td>\n",
       "      <td>Ladieswear</td>\n",
       "      <td>1</td>\n",
       "      <td>Ladieswear</td>\n",
       "      <td>16</td>\n",
       "      <td>Womens Everyday Basics</td>\n",
       "      <td>1002</td>\n",
       "      <td>Jersey Basic</td>\n",
       "      <td>Jersey top with narrow shoulder straps.</td>\n",
       "      <td>2</td>\n",
       "    </tr>\n",
       "    <tr>\n",
       "      <th>3</th>\n",
       "      <td>110065001</td>\n",
       "      <td>110065</td>\n",
       "      <td>OP T-shirt (Idro)</td>\n",
       "      <td>306</td>\n",
       "      <td>Bra</td>\n",
       "      <td>Underwear</td>\n",
       "      <td>1010016</td>\n",
       "      <td>Solid</td>\n",
       "      <td>9</td>\n",
       "      <td>Black</td>\n",
       "      <td>...</td>\n",
       "      <td>B</td>\n",
       "      <td>Lingeries/Tights</td>\n",
       "      <td>1</td>\n",
       "      <td>Ladieswear</td>\n",
       "      <td>61</td>\n",
       "      <td>Womens Lingerie</td>\n",
       "      <td>1017</td>\n",
       "      <td>Under-, Nightwear</td>\n",
       "      <td>Microfibre T-shirt bra with underwired, moulde...</td>\n",
       "      <td>520</td>\n",
       "    </tr>\n",
       "    <tr>\n",
       "      <th>4</th>\n",
       "      <td>110065002</td>\n",
       "      <td>110065</td>\n",
       "      <td>OP T-shirt (Idro)</td>\n",
       "      <td>306</td>\n",
       "      <td>Bra</td>\n",
       "      <td>Underwear</td>\n",
       "      <td>1010016</td>\n",
       "      <td>Solid</td>\n",
       "      <td>10</td>\n",
       "      <td>White</td>\n",
       "      <td>...</td>\n",
       "      <td>B</td>\n",
       "      <td>Lingeries/Tights</td>\n",
       "      <td>1</td>\n",
       "      <td>Ladieswear</td>\n",
       "      <td>61</td>\n",
       "      <td>Womens Lingerie</td>\n",
       "      <td>1017</td>\n",
       "      <td>Under-, Nightwear</td>\n",
       "      <td>Microfibre T-shirt bra with underwired, moulde...</td>\n",
       "      <td>279</td>\n",
       "    </tr>\n",
       "    <tr>\n",
       "      <th>...</th>\n",
       "      <td>...</td>\n",
       "      <td>...</td>\n",
       "      <td>...</td>\n",
       "      <td>...</td>\n",
       "      <td>...</td>\n",
       "      <td>...</td>\n",
       "      <td>...</td>\n",
       "      <td>...</td>\n",
       "      <td>...</td>\n",
       "      <td>...</td>\n",
       "      <td>...</td>\n",
       "      <td>...</td>\n",
       "      <td>...</td>\n",
       "      <td>...</td>\n",
       "      <td>...</td>\n",
       "      <td>...</td>\n",
       "      <td>...</td>\n",
       "      <td>...</td>\n",
       "      <td>...</td>\n",
       "      <td>...</td>\n",
       "      <td>...</td>\n",
       "    </tr>\n",
       "    <tr>\n",
       "      <th>105537</th>\n",
       "      <td>953450001</td>\n",
       "      <td>953450</td>\n",
       "      <td>5pk regular Placement1</td>\n",
       "      <td>302</td>\n",
       "      <td>Socks</td>\n",
       "      <td>Socks &amp; Tights</td>\n",
       "      <td>1010014</td>\n",
       "      <td>Placement print</td>\n",
       "      <td>9</td>\n",
       "      <td>Black</td>\n",
       "      <td>...</td>\n",
       "      <td>F</td>\n",
       "      <td>Menswear</td>\n",
       "      <td>3</td>\n",
       "      <td>Menswear</td>\n",
       "      <td>26</td>\n",
       "      <td>Men Underwear</td>\n",
       "      <td>1021</td>\n",
       "      <td>Socks and Tights</td>\n",
       "      <td>Socks in a fine-knit cotton blend with a small...</td>\n",
       "      <td>0</td>\n",
       "    </tr>\n",
       "    <tr>\n",
       "      <th>105538</th>\n",
       "      <td>953763001</td>\n",
       "      <td>953763</td>\n",
       "      <td>SPORT Malaga tank</td>\n",
       "      <td>253</td>\n",
       "      <td>Vest top</td>\n",
       "      <td>Garment Upper body</td>\n",
       "      <td>1010016</td>\n",
       "      <td>Solid</td>\n",
       "      <td>9</td>\n",
       "      <td>Black</td>\n",
       "      <td>...</td>\n",
       "      <td>A</td>\n",
       "      <td>Ladieswear</td>\n",
       "      <td>1</td>\n",
       "      <td>Ladieswear</td>\n",
       "      <td>2</td>\n",
       "      <td>H&amp;M+</td>\n",
       "      <td>1005</td>\n",
       "      <td>Jersey Fancy</td>\n",
       "      <td>Loose-fitting sports vest top in ribbed fast-d...</td>\n",
       "      <td>0</td>\n",
       "    </tr>\n",
       "    <tr>\n",
       "      <th>105539</th>\n",
       "      <td>956217002</td>\n",
       "      <td>956217</td>\n",
       "      <td>Cartwheel dress</td>\n",
       "      <td>265</td>\n",
       "      <td>Dress</td>\n",
       "      <td>Garment Full body</td>\n",
       "      <td>1010016</td>\n",
       "      <td>Solid</td>\n",
       "      <td>9</td>\n",
       "      <td>Black</td>\n",
       "      <td>...</td>\n",
       "      <td>A</td>\n",
       "      <td>Ladieswear</td>\n",
       "      <td>1</td>\n",
       "      <td>Ladieswear</td>\n",
       "      <td>18</td>\n",
       "      <td>Womens Trend</td>\n",
       "      <td>1005</td>\n",
       "      <td>Jersey Fancy</td>\n",
       "      <td>Short, A-line dress in jersey with a round nec...</td>\n",
       "      <td>0</td>\n",
       "    </tr>\n",
       "    <tr>\n",
       "      <th>105540</th>\n",
       "      <td>957375001</td>\n",
       "      <td>957375</td>\n",
       "      <td>CLAIRE HAIR CLAW</td>\n",
       "      <td>72</td>\n",
       "      <td>Hair clip</td>\n",
       "      <td>Accessories</td>\n",
       "      <td>1010016</td>\n",
       "      <td>Solid</td>\n",
       "      <td>9</td>\n",
       "      <td>Black</td>\n",
       "      <td>...</td>\n",
       "      <td>D</td>\n",
       "      <td>Divided</td>\n",
       "      <td>2</td>\n",
       "      <td>Divided</td>\n",
       "      <td>52</td>\n",
       "      <td>Divided Accessories</td>\n",
       "      <td>1019</td>\n",
       "      <td>Accessories</td>\n",
       "      <td>Large plastic hair claw.</td>\n",
       "      <td>0</td>\n",
       "    </tr>\n",
       "    <tr>\n",
       "      <th>105541</th>\n",
       "      <td>959461001</td>\n",
       "      <td>959461</td>\n",
       "      <td>Lounge dress</td>\n",
       "      <td>265</td>\n",
       "      <td>Dress</td>\n",
       "      <td>Garment Full body</td>\n",
       "      <td>1010016</td>\n",
       "      <td>Solid</td>\n",
       "      <td>11</td>\n",
       "      <td>Off White</td>\n",
       "      <td>...</td>\n",
       "      <td>A</td>\n",
       "      <td>Ladieswear</td>\n",
       "      <td>1</td>\n",
       "      <td>Ladieswear</td>\n",
       "      <td>18</td>\n",
       "      <td>Womens Trend</td>\n",
       "      <td>1005</td>\n",
       "      <td>Jersey Fancy</td>\n",
       "      <td>Calf-length dress in ribbed jersey made from a...</td>\n",
       "      <td>0</td>\n",
       "    </tr>\n",
       "  </tbody>\n",
       "</table>\n",
       "<p>105542 rows × 26 columns</p>\n",
       "</div>"
      ],
      "text/plain": [
       "        article_id  product_code               prod_name  product_type_no  \\\n",
       "0        108775015        108775               Strap top              253   \n",
       "1        108775044        108775               Strap top              253   \n",
       "2        108775051        108775           Strap top (1)              253   \n",
       "3        110065001        110065       OP T-shirt (Idro)              306   \n",
       "4        110065002        110065       OP T-shirt (Idro)              306   \n",
       "...            ...           ...                     ...              ...   \n",
       "105537   953450001        953450  5pk regular Placement1              302   \n",
       "105538   953763001        953763       SPORT Malaga tank              253   \n",
       "105539   956217002        956217         Cartwheel dress              265   \n",
       "105540   957375001        957375        CLAIRE HAIR CLAW               72   \n",
       "105541   959461001        959461            Lounge dress              265   \n",
       "\n",
       "       product_type_name  product_group_name  graphical_appearance_no  \\\n",
       "0               Vest top  Garment Upper body                  1010016   \n",
       "1               Vest top  Garment Upper body                  1010016   \n",
       "2               Vest top  Garment Upper body                  1010017   \n",
       "3                    Bra           Underwear                  1010016   \n",
       "4                    Bra           Underwear                  1010016   \n",
       "...                  ...                 ...                      ...   \n",
       "105537             Socks      Socks & Tights                  1010014   \n",
       "105538          Vest top  Garment Upper body                  1010016   \n",
       "105539             Dress   Garment Full body                  1010016   \n",
       "105540         Hair clip         Accessories                  1010016   \n",
       "105541             Dress   Garment Full body                  1010016   \n",
       "\n",
       "       graphical_appearance_name  colour_group_code colour_group_name  ...  \\\n",
       "0                          Solid                  9             Black  ...   \n",
       "1                          Solid                 10             White  ...   \n",
       "2                         Stripe                 11         Off White  ...   \n",
       "3                          Solid                  9             Black  ...   \n",
       "4                          Solid                 10             White  ...   \n",
       "...                          ...                ...               ...  ...   \n",
       "105537           Placement print                  9             Black  ...   \n",
       "105538                     Solid                  9             Black  ...   \n",
       "105539                     Solid                  9             Black  ...   \n",
       "105540                     Solid                  9             Black  ...   \n",
       "105541                     Solid                 11         Off White  ...   \n",
       "\n",
       "        index_code        index_name  index_group_no index_group_name  \\\n",
       "0                A        Ladieswear               1       Ladieswear   \n",
       "1                A        Ladieswear               1       Ladieswear   \n",
       "2                A        Ladieswear               1       Ladieswear   \n",
       "3                B  Lingeries/Tights               1       Ladieswear   \n",
       "4                B  Lingeries/Tights               1       Ladieswear   \n",
       "...            ...               ...             ...              ...   \n",
       "105537           F          Menswear               3         Menswear   \n",
       "105538           A        Ladieswear               1       Ladieswear   \n",
       "105539           A        Ladieswear               1       Ladieswear   \n",
       "105540           D           Divided               2          Divided   \n",
       "105541           A        Ladieswear               1       Ladieswear   \n",
       "\n",
       "        section_no            section_name garment_group_no  \\\n",
       "0               16  Womens Everyday Basics             1002   \n",
       "1               16  Womens Everyday Basics             1002   \n",
       "2               16  Womens Everyday Basics             1002   \n",
       "3               61         Womens Lingerie             1017   \n",
       "4               61         Womens Lingerie             1017   \n",
       "...            ...                     ...              ...   \n",
       "105537          26           Men Underwear             1021   \n",
       "105538           2                    H&M+             1005   \n",
       "105539          18            Womens Trend             1005   \n",
       "105540          52     Divided Accessories             1019   \n",
       "105541          18            Womens Trend             1005   \n",
       "\n",
       "       garment_group_name                                        detail_desc  \\\n",
       "0            Jersey Basic            Jersey top with narrow shoulder straps.   \n",
       "1            Jersey Basic            Jersey top with narrow shoulder straps.   \n",
       "2            Jersey Basic            Jersey top with narrow shoulder straps.   \n",
       "3       Under-, Nightwear  Microfibre T-shirt bra with underwired, moulde...   \n",
       "4       Under-, Nightwear  Microfibre T-shirt bra with underwired, moulde...   \n",
       "...                   ...                                                ...   \n",
       "105537   Socks and Tights  Socks in a fine-knit cotton blend with a small...   \n",
       "105538       Jersey Fancy  Loose-fitting sports vest top in ribbed fast-d...   \n",
       "105539       Jersey Fancy  Short, A-line dress in jersey with a round nec...   \n",
       "105540        Accessories                           Large plastic hair claw.   \n",
       "105541       Jersey Fancy  Calf-length dress in ribbed jersey made from a...   \n",
       "\n",
       "       total_sales_2019  \n",
       "0                  5730  \n",
       "1                  4993  \n",
       "2                     2  \n",
       "3                   520  \n",
       "4                   279  \n",
       "...                 ...  \n",
       "105537                0  \n",
       "105538                0  \n",
       "105539                0  \n",
       "105540                0  \n",
       "105541                0  \n",
       "\n",
       "[105542 rows x 26 columns]"
      ]
     },
     "execution_count": 8,
     "metadata": {},
     "output_type": "execute_result"
    }
   ],
   "source": [
    "# add 2019 sales data to df_articles\n",
    "article_sales = df_transactions.groupby('article_id').count()\n",
    "def f(x):\n",
    "    try:\n",
    "        return article_sales.loc[x]['customer_id']\n",
    "    except:\n",
    "        return 0\n",
    "df_articles['total_sales_2019'] = df_articles['article_id'].apply(f)\n",
    "df_articles"
   ]
  },
  {
   "cell_type": "code",
   "execution_count": 9,
   "id": "e87bb9d7",
   "metadata": {
    "execution": {
     "iopub.execute_input": "2022-03-02T06:29:54.950490Z",
     "iopub.status.busy": "2022-03-02T06:29:54.949955Z",
     "iopub.status.idle": "2022-03-02T06:29:54.974138Z",
     "shell.execute_reply": "2022-03-02T06:29:54.974659Z",
     "shell.execute_reply.started": "2022-03-02T06:20:32.170411Z"
    },
    "papermill": {
     "duration": 0.088733,
     "end_time": "2022-03-02T06:29:54.974820",
     "exception": false,
     "start_time": "2022-03-02T06:29:54.886087",
     "status": "completed"
    },
    "tags": []
   },
   "outputs": [],
   "source": [
    "to_drop = ['product_type_no',\n",
    " 'graphical_appearance_no',\n",
    " 'colour_group_code',\n",
    " 'perceived_colour_value_id',\n",
    " 'perceived_colour_master_id',\n",
    " 'department_no',\n",
    " 'index_code',\n",
    " 'index_group_no',\n",
    " 'section_no',\n",
    " 'garment_group_no']\n",
    "df_articles.drop(columns=to_drop, axis=1, inplace=True)"
   ]
  },
  {
   "cell_type": "code",
   "execution_count": 10,
   "id": "5d0b0383",
   "metadata": {
    "execution": {
     "iopub.execute_input": "2022-03-02T06:29:55.100730Z",
     "iopub.status.busy": "2022-03-02T06:29:55.100075Z",
     "iopub.status.idle": "2022-03-02T06:29:55.151133Z",
     "shell.execute_reply": "2022-03-02T06:29:55.151652Z",
     "shell.execute_reply.started": "2022-03-02T06:20:32.196013Z"
    },
    "papermill": {
     "duration": 0.114572,
     "end_time": "2022-03-02T06:29:55.151828",
     "exception": false,
     "start_time": "2022-03-02T06:29:55.037256",
     "status": "completed"
    },
    "tags": []
   },
   "outputs": [
    {
     "data": {
      "text/html": [
       "<div>\n",
       "<style scoped>\n",
       "    .dataframe tbody tr th:only-of-type {\n",
       "        vertical-align: middle;\n",
       "    }\n",
       "\n",
       "    .dataframe tbody tr th {\n",
       "        vertical-align: top;\n",
       "    }\n",
       "\n",
       "    .dataframe thead th {\n",
       "        text-align: right;\n",
       "    }\n",
       "</style>\n",
       "<table border=\"1\" class=\"dataframe\">\n",
       "  <thead>\n",
       "    <tr style=\"text-align: right;\">\n",
       "      <th></th>\n",
       "      <th>article_id</th>\n",
       "      <th>product_code</th>\n",
       "      <th>prod_name</th>\n",
       "      <th>product_type_name</th>\n",
       "      <th>product_group_name</th>\n",
       "      <th>graphical_appearance_name</th>\n",
       "      <th>colour_group_name</th>\n",
       "      <th>perceived_colour_value_name</th>\n",
       "      <th>perceived_colour_master_name</th>\n",
       "      <th>department_name</th>\n",
       "      <th>index_name</th>\n",
       "      <th>index_group_name</th>\n",
       "      <th>section_name</th>\n",
       "      <th>garment_group_name</th>\n",
       "      <th>detail_desc</th>\n",
       "      <th>total_sales_2019</th>\n",
       "    </tr>\n",
       "  </thead>\n",
       "  <tbody>\n",
       "    <tr>\n",
       "      <th>53892</th>\n",
       "      <td>706016001</td>\n",
       "      <td>706016</td>\n",
       "      <td>Jade HW Skinny Denim TRS</td>\n",
       "      <td>Trousers</td>\n",
       "      <td>Garment Lower body</td>\n",
       "      <td>Solid</td>\n",
       "      <td>Black</td>\n",
       "      <td>Dark</td>\n",
       "      <td>Black</td>\n",
       "      <td>Trousers</td>\n",
       "      <td>Divided</td>\n",
       "      <td>Divided</td>\n",
       "      <td>Divided Collection</td>\n",
       "      <td>Trousers</td>\n",
       "      <td>High-waisted jeans in washed superstretch deni...</td>\n",
       "      <td>29869</td>\n",
       "    </tr>\n",
       "    <tr>\n",
       "      <th>53893</th>\n",
       "      <td>706016002</td>\n",
       "      <td>706016</td>\n",
       "      <td>Jade HW Skinny Denim TRS</td>\n",
       "      <td>Trousers</td>\n",
       "      <td>Garment Lower body</td>\n",
       "      <td>Solid</td>\n",
       "      <td>Light Blue</td>\n",
       "      <td>Light</td>\n",
       "      <td>Blue</td>\n",
       "      <td>Trousers</td>\n",
       "      <td>Divided</td>\n",
       "      <td>Divided</td>\n",
       "      <td>Divided Collection</td>\n",
       "      <td>Trousers</td>\n",
       "      <td>High-waisted jeans in washed superstretch deni...</td>\n",
       "      <td>22293</td>\n",
       "    </tr>\n",
       "    <tr>\n",
       "      <th>1713</th>\n",
       "      <td>372860001</td>\n",
       "      <td>372860</td>\n",
       "      <td>7p Basic Shaftless</td>\n",
       "      <td>Socks</td>\n",
       "      <td>Socks &amp; Tights</td>\n",
       "      <td>Solid</td>\n",
       "      <td>Black</td>\n",
       "      <td>Dark</td>\n",
       "      <td>Black</td>\n",
       "      <td>Shopbasket Socks</td>\n",
       "      <td>Lingeries/Tights</td>\n",
       "      <td>Ladieswear</td>\n",
       "      <td>Womens Nightwear, Socks &amp; Tigh</td>\n",
       "      <td>Socks and Tights</td>\n",
       "      <td>Fine-knit trainer socks in a soft cotton blend.</td>\n",
       "      <td>15553</td>\n",
       "    </tr>\n",
       "    <tr>\n",
       "      <th>70221</th>\n",
       "      <td>759871002</td>\n",
       "      <td>759871</td>\n",
       "      <td>Tilda tank</td>\n",
       "      <td>Vest top</td>\n",
       "      <td>Garment Upper body</td>\n",
       "      <td>Solid</td>\n",
       "      <td>Black</td>\n",
       "      <td>Dark</td>\n",
       "      <td>Black</td>\n",
       "      <td>EQ Divided Basics</td>\n",
       "      <td>Divided</td>\n",
       "      <td>Divided</td>\n",
       "      <td>Divided Complements Other</td>\n",
       "      <td>Jersey Basic</td>\n",
       "      <td>Cropped, fitted top in cotton jersey with narr...</td>\n",
       "      <td>13872</td>\n",
       "    </tr>\n",
       "    <tr>\n",
       "      <th>3711</th>\n",
       "      <td>464297007</td>\n",
       "      <td>464297</td>\n",
       "      <td>Greta Thong Mynta Low 3p</td>\n",
       "      <td>Underwear bottom</td>\n",
       "      <td>Underwear</td>\n",
       "      <td>Placement print</td>\n",
       "      <td>Black</td>\n",
       "      <td>Dark</td>\n",
       "      <td>Black</td>\n",
       "      <td>Casual Lingerie</td>\n",
       "      <td>Lingeries/Tights</td>\n",
       "      <td>Ladieswear</td>\n",
       "      <td>Womens Lingerie</td>\n",
       "      <td>Under-, Nightwear</td>\n",
       "      <td>Thong briefs in cotton jersey with a wide lace...</td>\n",
       "      <td>12869</td>\n",
       "    </tr>\n",
       "    <tr>\n",
       "      <th>53894</th>\n",
       "      <td>706016003</td>\n",
       "      <td>706016</td>\n",
       "      <td>Jade HW Skinny Denim TRS</td>\n",
       "      <td>Trousers</td>\n",
       "      <td>Garment Lower body</td>\n",
       "      <td>Solid</td>\n",
       "      <td>Dark Blue</td>\n",
       "      <td>Medium Dusty</td>\n",
       "      <td>Blue</td>\n",
       "      <td>Trousers</td>\n",
       "      <td>Divided</td>\n",
       "      <td>Divided</td>\n",
       "      <td>Divided Collection</td>\n",
       "      <td>Trousers</td>\n",
       "      <td>High-waisted jeans in washed superstretch deni...</td>\n",
       "      <td>12540</td>\n",
       "    </tr>\n",
       "    <tr>\n",
       "      <th>14253</th>\n",
       "      <td>562245046</td>\n",
       "      <td>562245</td>\n",
       "      <td>Luna skinny RW</td>\n",
       "      <td>Trousers</td>\n",
       "      <td>Garment Lower body</td>\n",
       "      <td>Solid</td>\n",
       "      <td>Black</td>\n",
       "      <td>Dark</td>\n",
       "      <td>Black</td>\n",
       "      <td>Trouser</td>\n",
       "      <td>Ladieswear</td>\n",
       "      <td>Ladieswear</td>\n",
       "      <td>Womens Everyday Collection</td>\n",
       "      <td>Trousers</td>\n",
       "      <td>5-pocket jeans in washed, superstretch denim w...</td>\n",
       "      <td>12325</td>\n",
       "    </tr>\n",
       "    <tr>\n",
       "      <th>67</th>\n",
       "      <td>156231001</td>\n",
       "      <td>156231</td>\n",
       "      <td>Box 4p Tights</td>\n",
       "      <td>Underwear Tights</td>\n",
       "      <td>Socks &amp; Tights</td>\n",
       "      <td>Solid</td>\n",
       "      <td>Black</td>\n",
       "      <td>Dark</td>\n",
       "      <td>Black</td>\n",
       "      <td>Tights basic</td>\n",
       "      <td>Lingeries/Tights</td>\n",
       "      <td>Ladieswear</td>\n",
       "      <td>Womens Nightwear, Socks &amp; Tigh</td>\n",
       "      <td>Socks and Tights</td>\n",
       "      <td>Matt tights with an elasticated waist. 20 denier.</td>\n",
       "      <td>11891</td>\n",
       "    </tr>\n",
       "    <tr>\n",
       "      <th>42626</th>\n",
       "      <td>673677002</td>\n",
       "      <td>673677</td>\n",
       "      <td>Henry polo. (1)</td>\n",
       "      <td>Sweater</td>\n",
       "      <td>Garment Upper body</td>\n",
       "      <td>Solid</td>\n",
       "      <td>Black</td>\n",
       "      <td>Dark</td>\n",
       "      <td>Black</td>\n",
       "      <td>Knitwear</td>\n",
       "      <td>Ladieswear</td>\n",
       "      <td>Ladieswear</td>\n",
       "      <td>Womens Tailoring</td>\n",
       "      <td>Knitwear</td>\n",
       "      <td>Jumper in a soft, fine knit with a ribbed polo...</td>\n",
       "      <td>11876</td>\n",
       "    </tr>\n",
       "    <tr>\n",
       "      <th>42557</th>\n",
       "      <td>673396002</td>\n",
       "      <td>673396</td>\n",
       "      <td>Ringo hipbelt</td>\n",
       "      <td>Belt</td>\n",
       "      <td>Accessories</td>\n",
       "      <td>Solid</td>\n",
       "      <td>Black</td>\n",
       "      <td>Dark</td>\n",
       "      <td>Black</td>\n",
       "      <td>Belts</td>\n",
       "      <td>Ladies Accessories</td>\n",
       "      <td>Ladieswear</td>\n",
       "      <td>Womens Big accessories</td>\n",
       "      <td>Accessories</td>\n",
       "      <td>Belt in grained imitation leather with a metal...</td>\n",
       "      <td>11830</td>\n",
       "    </tr>\n",
       "  </tbody>\n",
       "</table>\n",
       "</div>"
      ],
      "text/plain": [
       "       article_id  product_code                 prod_name product_type_name  \\\n",
       "53892   706016001        706016  Jade HW Skinny Denim TRS          Trousers   \n",
       "53893   706016002        706016  Jade HW Skinny Denim TRS          Trousers   \n",
       "1713    372860001        372860        7p Basic Shaftless             Socks   \n",
       "70221   759871002        759871                Tilda tank          Vest top   \n",
       "3711    464297007        464297  Greta Thong Mynta Low 3p  Underwear bottom   \n",
       "53894   706016003        706016  Jade HW Skinny Denim TRS          Trousers   \n",
       "14253   562245046        562245            Luna skinny RW          Trousers   \n",
       "67      156231001        156231             Box 4p Tights  Underwear Tights   \n",
       "42626   673677002        673677           Henry polo. (1)           Sweater   \n",
       "42557   673396002        673396             Ringo hipbelt              Belt   \n",
       "\n",
       "       product_group_name graphical_appearance_name colour_group_name  \\\n",
       "53892  Garment Lower body                     Solid             Black   \n",
       "53893  Garment Lower body                     Solid        Light Blue   \n",
       "1713       Socks & Tights                     Solid             Black   \n",
       "70221  Garment Upper body                     Solid             Black   \n",
       "3711            Underwear           Placement print             Black   \n",
       "53894  Garment Lower body                     Solid         Dark Blue   \n",
       "14253  Garment Lower body                     Solid             Black   \n",
       "67         Socks & Tights                     Solid             Black   \n",
       "42626  Garment Upper body                     Solid             Black   \n",
       "42557         Accessories                     Solid             Black   \n",
       "\n",
       "      perceived_colour_value_name perceived_colour_master_name  \\\n",
       "53892                        Dark                        Black   \n",
       "53893                       Light                         Blue   \n",
       "1713                         Dark                        Black   \n",
       "70221                        Dark                        Black   \n",
       "3711                         Dark                        Black   \n",
       "53894                Medium Dusty                         Blue   \n",
       "14253                        Dark                        Black   \n",
       "67                           Dark                        Black   \n",
       "42626                        Dark                        Black   \n",
       "42557                        Dark                        Black   \n",
       "\n",
       "         department_name          index_name index_group_name  \\\n",
       "53892           Trousers             Divided          Divided   \n",
       "53893           Trousers             Divided          Divided   \n",
       "1713    Shopbasket Socks    Lingeries/Tights       Ladieswear   \n",
       "70221  EQ Divided Basics             Divided          Divided   \n",
       "3711     Casual Lingerie    Lingeries/Tights       Ladieswear   \n",
       "53894           Trousers             Divided          Divided   \n",
       "14253            Trouser          Ladieswear       Ladieswear   \n",
       "67          Tights basic    Lingeries/Tights       Ladieswear   \n",
       "42626           Knitwear          Ladieswear       Ladieswear   \n",
       "42557              Belts  Ladies Accessories       Ladieswear   \n",
       "\n",
       "                         section_name garment_group_name  \\\n",
       "53892              Divided Collection           Trousers   \n",
       "53893              Divided Collection           Trousers   \n",
       "1713   Womens Nightwear, Socks & Tigh   Socks and Tights   \n",
       "70221       Divided Complements Other       Jersey Basic   \n",
       "3711                  Womens Lingerie  Under-, Nightwear   \n",
       "53894              Divided Collection           Trousers   \n",
       "14253      Womens Everyday Collection           Trousers   \n",
       "67     Womens Nightwear, Socks & Tigh   Socks and Tights   \n",
       "42626                Womens Tailoring           Knitwear   \n",
       "42557          Womens Big accessories        Accessories   \n",
       "\n",
       "                                             detail_desc  total_sales_2019  \n",
       "53892  High-waisted jeans in washed superstretch deni...             29869  \n",
       "53893  High-waisted jeans in washed superstretch deni...             22293  \n",
       "1713     Fine-knit trainer socks in a soft cotton blend.             15553  \n",
       "70221  Cropped, fitted top in cotton jersey with narr...             13872  \n",
       "3711   Thong briefs in cotton jersey with a wide lace...             12869  \n",
       "53894  High-waisted jeans in washed superstretch deni...             12540  \n",
       "14253  5-pocket jeans in washed, superstretch denim w...             12325  \n",
       "67     Matt tights with an elasticated waist. 20 denier.             11891  \n",
       "42626  Jumper in a soft, fine knit with a ribbed polo...             11876  \n",
       "42557  Belt in grained imitation leather with a metal...             11830  "
      ]
     },
     "execution_count": 10,
     "metadata": {},
     "output_type": "execute_result"
    }
   ],
   "source": [
    "df_articles.sort_values(by='total_sales_2019', ascending=False).head(10)"
   ]
  },
  {
   "cell_type": "markdown",
   "id": "a6bd6063",
   "metadata": {
    "papermill": {
     "duration": 0.062633,
     "end_time": "2022-03-02T06:29:55.276594",
     "exception": false,
     "start_time": "2022-03-02T06:29:55.213961",
     "status": "completed"
    },
    "tags": []
   },
   "source": [
    "The top two bestsellers are denim `Trousers`, with black colour having more sales than light blue. 8 out of the top 10 topsellers are `Black`. \n",
    "\n",
    "From before, there are 105542 distinct `article_id` in the articles dataset. Hence we define the **top 1000** (~1%) articles with most sales as a **bestseller**. "
   ]
  },
  {
   "cell_type": "code",
   "execution_count": 11,
   "id": "77eabc09",
   "metadata": {
    "execution": {
     "iopub.execute_input": "2022-03-02T06:29:55.408840Z",
     "iopub.status.busy": "2022-03-02T06:29:55.406591Z",
     "iopub.status.idle": "2022-03-02T06:29:55.441615Z",
     "shell.execute_reply": "2022-03-02T06:29:55.442078Z",
     "shell.execute_reply.started": "2022-03-02T06:20:32.248654Z"
    },
    "papermill": {
     "duration": 0.102647,
     "end_time": "2022-03-02T06:29:55.442249",
     "exception": false,
     "start_time": "2022-03-02T06:29:55.339602",
     "status": "completed"
    },
    "tags": []
   },
   "outputs": [],
   "source": [
    "bestsellers = df_articles.sort_values(by='total_sales_2019', ascending=False).head(1000)"
   ]
  },
  {
   "cell_type": "code",
   "execution_count": 12,
   "id": "c4aac75b",
   "metadata": {
    "execution": {
     "iopub.execute_input": "2022-03-02T06:29:55.582422Z",
     "iopub.status.busy": "2022-03-02T06:29:55.576199Z",
     "iopub.status.idle": "2022-03-02T06:29:56.126742Z",
     "shell.execute_reply": "2022-03-02T06:29:56.127360Z",
     "shell.execute_reply.started": "2022-03-02T06:20:32.285023Z"
    },
    "papermill": {
     "duration": 0.622883,
     "end_time": "2022-03-02T06:29:56.127534",
     "exception": false,
     "start_time": "2022-03-02T06:29:55.504651",
     "status": "completed"
    },
    "tags": []
   },
   "outputs": [
    {
     "data": {
      "image/png": "[encoded data removed]",
      "text/plain": [
       "<Figure size 1080x360 with 1 Axes>"
      ]
     },
     "metadata": {
      "needs_background": "light"
     },
     "output_type": "display_data"
    }
   ],
   "source": [
    "plt.figure(figsize=(15,5))\n",
    "g = sns.countplot(x=\"colour_group_name\", #Show count of observations\n",
    "                  data=bestsellers,\n",
    "                  palette=\"pastel\")\n",
    "g.bar_label(g.containers[0])\n",
    "g.tick_params(axis='x', rotation=90)\n",
    "plt.title('Color Group of Bestsellers on H&M')\n",
    "plt.show(g)"
   ]
  },
  {
   "cell_type": "markdown",
   "id": "dbec0b9a",
   "metadata": {
    "papermill": {
     "duration": 0.062994,
     "end_time": "2022-03-02T06:29:56.253836",
     "exception": false,
     "start_time": "2022-03-02T06:29:56.190842",
     "status": "completed"
    },
    "tags": []
   },
   "source": [
    "`Black` is indeed the most popular colour."
   ]
  },
  {
   "cell_type": "code",
   "execution_count": 13,
   "id": "c30f95e4",
   "metadata": {
    "execution": {
     "iopub.execute_input": "2022-03-02T06:29:56.386322Z",
     "iopub.status.busy": "2022-03-02T06:29:56.385635Z",
     "iopub.status.idle": "2022-03-02T06:29:57.295922Z",
     "shell.execute_reply": "2022-03-02T06:29:57.296421Z",
     "shell.execute_reply.started": "2022-03-02T06:20:32.808131Z"
    },
    "papermill": {
     "duration": 0.97863,
     "end_time": "2022-03-02T06:29:57.296618",
     "exception": false,
     "start_time": "2022-03-02T06:29:56.317988",
     "status": "completed"
    },
    "tags": []
   },
   "outputs": [
    {
     "data": {
      "image/png": "[encoded data removed]",
      "text/plain": [
       "<Figure size 1080x360 with 1 Axes>"
      ]
     },
     "metadata": {
      "needs_background": "light"
     },
     "output_type": "display_data"
    },
    {
     "data": {
      "image/png": "[encoded data removed]",
      "text/plain": [
       "<Figure size 1080x360 with 1 Axes>"
      ]
     },
     "metadata": {
      "needs_background": "light"
     },
     "output_type": "display_data"
    }
   ],
   "source": [
    "plt.figure(figsize=(15,5))\n",
    "g = sns.countplot(x=\"garment_group_name\", #Show count of observations\n",
    "                  #data=df_articles[df_articles['total_sales_2019'] >= 8000],\n",
    "                  data=df_articles,\n",
    "                  palette=\"pastel\")\n",
    "g.bar_label(g.containers[0])\n",
    "g.tick_params(axis='x', rotation=90)\n",
    "plt.title('All Articles on H&M')\n",
    "plt.show(g)\n",
    "plt.figure(figsize=(15,5))\n",
    "h = sns.countplot(x=\"garment_group_name\", #Show count of observations\n",
    "                  data=bestsellers,\n",
    "                  #data=df_articles,\n",
    "                  palette=\"pastel\")\n",
    "h.bar_label(h.containers[0])\n",
    "h.tick_params(axis='x', rotation=90)\n",
    "plt.title('Bestselling Articles on H&M')\n",
    "plt.show(h)"
   ]
  },
  {
   "cell_type": "markdown",
   "id": "ac554f8a",
   "metadata": {
    "papermill": {
     "duration": 0.067601,
     "end_time": "2022-03-02T06:29:57.432827",
     "exception": false,
     "start_time": "2022-03-02T06:29:57.365226",
     "status": "completed"
    },
    "tags": []
   },
   "source": [
    "H&M sells a lot of types of `Jersey Fancy` articles, but the top three bestsellers are still mostly `Swimwear`, `Jersey Basic`, and `Trousers`. Besides that, `Accesories` is the number two among all articles, but does not constitute much of the bestsellers."
   ]
  },
  {
   "cell_type": "code",
   "execution_count": 14,
   "id": "a84adadf",
   "metadata": {
    "execution": {
     "iopub.execute_input": "2022-03-02T06:29:57.572445Z",
     "iopub.status.busy": "2022-03-02T06:29:57.571785Z",
     "iopub.status.idle": "2022-03-02T06:29:58.107099Z",
     "shell.execute_reply": "2022-03-02T06:29:58.106386Z",
     "shell.execute_reply.started": "2022-03-02T06:20:33.618923Z"
    },
    "papermill": {
     "duration": 0.605903,
     "end_time": "2022-03-02T06:29:58.107250",
     "exception": false,
     "start_time": "2022-03-02T06:29:57.501347",
     "status": "completed"
    },
    "tags": []
   },
   "outputs": [
    {
     "data": {
      "image/png": "[encoded data removed]",
      "text/plain": [
       "<Figure size 576x360 with 1 Axes>"
      ]
     },
     "metadata": {
      "needs_background": "light"
     },
     "output_type": "display_data"
    },
    {
     "data": {
      "image/png": "[encoded data removed]",
      "text/plain": [
       "<Figure size 576x360 with 1 Axes>"
      ]
     },
     "metadata": {
      "needs_background": "light"
     },
     "output_type": "display_data"
    }
   ],
   "source": [
    "plt.figure(figsize=(8,5))\n",
    "g = sns.countplot(x=\"index_group_name\", \n",
    "                  data=df_articles,\n",
    "                  palette=\"pastel\")\n",
    "g.bar_label(g.containers[0])\n",
    "g.tick_params(axis='x', rotation=90)\n",
    "plt.title('All Articles on H&M')\n",
    "plt.show(g)\n",
    "plt.figure(figsize=(8,5))\n",
    "g = sns.countplot(x=\"index_group_name\", \n",
    "                  data=bestsellers,\n",
    "                  palette=\"pastel\")\n",
    "g.bar_label(g.containers[0])\n",
    "g.tick_params(axis='x', rotation=90)\n",
    "plt.title('Bestselling Articles on H&M')\n",
    "plt.show(g)"
   ]
  },
  {
   "cell_type": "markdown",
   "id": "63964e6f",
   "metadata": {
    "papermill": {
     "duration": 0.073128,
     "end_time": "2022-03-02T06:29:58.250595",
     "exception": false,
     "start_time": "2022-03-02T06:29:58.177467",
     "status": "completed"
    },
    "tags": []
   },
   "source": [
    "A quick look at the Divided Collection on the official H&M website shows that it is targeted towards feminine styles. We can see that most bestselling articles were designed for the female demographic. It is inferred that most customers that contribute to the sales of H&M articles belong to the female demographic. Besides that, although H&M produces a lot of Baby/Children articles, none of them made it to the bestsellers."
   ]
  },
  {
   "cell_type": "markdown",
   "id": "530bbd2d",
   "metadata": {
    "papermill": {
     "duration": 0.069546,
     "end_time": "2022-03-02T06:29:58.390610",
     "exception": false,
     "start_time": "2022-03-02T06:29:58.321064",
     "status": "completed"
    },
    "tags": []
   },
   "source": [
    "### Who contributes to the bestsellers? \n",
    "Let's see if there is a certain age group that contributes mostly to the sales of the bestselling articles."
   ]
  },
  {
   "cell_type": "code",
   "execution_count": 15,
   "id": "65b2f9b5",
   "metadata": {
    "execution": {
     "iopub.execute_input": "2022-03-02T06:29:58.533326Z",
     "iopub.status.busy": "2022-03-02T06:29:58.532717Z",
     "iopub.status.idle": "2022-03-02T06:29:59.220366Z",
     "shell.execute_reply": "2022-03-02T06:29:59.220832Z",
     "shell.execute_reply.started": "2022-03-02T06:20:34.085810Z"
    },
    "papermill": {
     "duration": 0.760648,
     "end_time": "2022-03-02T06:29:59.221021",
     "exception": false,
     "start_time": "2022-03-02T06:29:58.460373",
     "status": "completed"
    },
    "tags": []
   },
   "outputs": [
    {
     "data": {
      "text/html": [
       "<div>\n",
       "<style scoped>\n",
       "    .dataframe tbody tr th:only-of-type {\n",
       "        vertical-align: middle;\n",
       "    }\n",
       "\n",
       "    .dataframe tbody tr th {\n",
       "        vertical-align: top;\n",
       "    }\n",
       "\n",
       "    .dataframe thead th {\n",
       "        text-align: right;\n",
       "    }\n",
       "</style>\n",
       "<table border=\"1\" class=\"dataframe\">\n",
       "  <thead>\n",
       "    <tr style=\"text-align: right;\">\n",
       "      <th></th>\n",
       "      <th>customer_id</th>\n",
       "      <th>FN</th>\n",
       "      <th>Active</th>\n",
       "      <th>club_member_status</th>\n",
       "      <th>fashion_news_frequency</th>\n",
       "      <th>age</th>\n",
       "      <th>postal_code</th>\n",
       "    </tr>\n",
       "  </thead>\n",
       "  <tbody>\n",
       "    <tr>\n",
       "      <th>0</th>\n",
       "      <td>6883939031699146327</td>\n",
       "      <td>NaN</td>\n",
       "      <td>NaN</td>\n",
       "      <td>ACTIVE</td>\n",
       "      <td>NONE</td>\n",
       "      <td>49.0</td>\n",
       "      <td>52043ee2162cf5aa7ee79974281641c6f11a68d276429a...</td>\n",
       "    </tr>\n",
       "    <tr>\n",
       "      <th>1</th>\n",
       "      <td>-7200416642310594310</td>\n",
       "      <td>NaN</td>\n",
       "      <td>NaN</td>\n",
       "      <td>ACTIVE</td>\n",
       "      <td>NONE</td>\n",
       "      <td>25.0</td>\n",
       "      <td>2973abc54daa8a5f8ccfe9362140c63247c5eee03f1d93...</td>\n",
       "    </tr>\n",
       "    <tr>\n",
       "      <th>4</th>\n",
       "      <td>-283965518499174310</td>\n",
       "      <td>1.0</td>\n",
       "      <td>1.0</td>\n",
       "      <td>ACTIVE</td>\n",
       "      <td>Regularly</td>\n",
       "      <td>52.0</td>\n",
       "      <td>25fa5ddee9aac01b35208d01736e57942317d756b32ddd...</td>\n",
       "    </tr>\n",
       "    <tr>\n",
       "      <th>5</th>\n",
       "      <td>-2477030216582433370</td>\n",
       "      <td>NaN</td>\n",
       "      <td>NaN</td>\n",
       "      <td>NaN</td>\n",
       "      <td>NaN</td>\n",
       "      <td>NaN</td>\n",
       "      <td>2c29ae653a9282cce4151bd87643c907644e09541abc28...</td>\n",
       "    </tr>\n",
       "    <tr>\n",
       "      <th>6</th>\n",
       "      <td>-3402710142238164438</td>\n",
       "      <td>NaN</td>\n",
       "      <td>NaN</td>\n",
       "      <td>ACTIVE</td>\n",
       "      <td>NONE</td>\n",
       "      <td>20.0</td>\n",
       "      <td>fe7b8e2b3fafb89ca90db17ffeeae0fd29b795d803f749...</td>\n",
       "    </tr>\n",
       "  </tbody>\n",
       "</table>\n",
       "</div>"
      ],
      "text/plain": [
       "           customer_id   FN  Active club_member_status fashion_news_frequency  \\\n",
       "0  6883939031699146327  NaN     NaN             ACTIVE                   NONE   \n",
       "1 -7200416642310594310  NaN     NaN             ACTIVE                   NONE   \n",
       "4  -283965518499174310  1.0     1.0             ACTIVE              Regularly   \n",
       "5 -2477030216582433370  NaN     NaN                NaN                    NaN   \n",
       "6 -3402710142238164438  NaN     NaN             ACTIVE                   NONE   \n",
       "\n",
       "    age                                        postal_code  \n",
       "0  49.0  52043ee2162cf5aa7ee79974281641c6f11a68d276429a...  \n",
       "1  25.0  2973abc54daa8a5f8ccfe9362140c63247c5eee03f1d93...  \n",
       "4  52.0  25fa5ddee9aac01b35208d01736e57942317d756b32ddd...  \n",
       "5   NaN  2c29ae653a9282cce4151bd87643c907644e09541abc28...  \n",
       "6  20.0  fe7b8e2b3fafb89ca90db17ffeeae0fd29b795d803f749...  "
      ]
     },
     "execution_count": 15,
     "metadata": {},
     "output_type": "execute_result"
    }
   ],
   "source": [
    "bestsellers_transactions = df_transactions[df_transactions['article_id'].isin(bestsellers['article_id'])]\n",
    "bestsellers_contributors = df_customers[df_customers['customer_id'].isin(bestsellers_transactions['customer_id'])]\n",
    "bestsellers_contributors.head()"
   ]
  },
  {
   "cell_type": "code",
   "execution_count": 16,
   "id": "bf25072d",
   "metadata": {
    "execution": {
     "iopub.execute_input": "2022-03-02T06:29:59.384330Z",
     "iopub.status.busy": "2022-03-02T06:29:59.383372Z",
     "iopub.status.idle": "2022-03-02T06:30:02.140120Z",
     "shell.execute_reply": "2022-03-02T06:30:02.140626Z",
     "shell.execute_reply.started": "2022-03-02T06:20:34.817367Z"
    },
    "papermill": {
     "duration": 2.833958,
     "end_time": "2022-03-02T06:30:02.140807",
     "exception": false,
     "start_time": "2022-03-02T06:29:59.306849",
     "status": "completed"
    },
    "tags": []
   },
   "outputs": [
    {
     "data": {
      "image/png": "[encoded data removed]",
      "text/plain": [
       "<Figure size 432x288 with 1 Axes>"
      ]
     },
     "metadata": {
      "needs_background": "light"
     },
     "output_type": "display_data"
    },
    {
     "data": {
      "image/png": "[encoded data removed]",
      "text/plain": [
       "<Figure size 432x288 with 1 Axes>"
      ]
     },
     "metadata": {
      "needs_background": "light"
     },
     "output_type": "display_data"
    }
   ],
   "source": [
    "# age of customers\n",
    "g = sns.histplot(df_customers['age'], #Plot univariate distribution\n",
    "                 kde=False)\n",
    "plt.title('Age of All Customers')\n",
    "plt.show(g)\n",
    "# age of customers who bought the bestsellers\n",
    "g = sns.histplot(bestsellers_contributors['age'], #Plot univariate distribution\n",
    "                 kde=False)\n",
    "plt.title('Age of Customers Who Bought Bestsellers')\n",
    "plt.show(g)"
   ]
  },
  {
   "cell_type": "markdown",
   "id": "966d090e",
   "metadata": {
    "papermill": {
     "duration": 0.072903,
     "end_time": "2022-03-02T06:30:02.286688",
     "exception": false,
     "start_time": "2022-03-02T06:30:02.213785",
     "status": "completed"
    },
    "tags": []
   },
   "source": [
    "Comparing the age distribution of all customers and that of customers who bought the bestsellers, the distributions look similar. The bestsellers were catering to **all ages** of the customer base. This may be the reason why they became bestsellers."
   ]
  },
  {
   "cell_type": "markdown",
   "id": "e92f97dd",
   "metadata": {
    "papermill": {
     "duration": 0.072597,
     "end_time": "2022-03-02T06:30:02.434504",
     "exception": false,
     "start_time": "2022-03-02T06:30:02.361907",
     "status": "completed"
    },
    "tags": []
   },
   "source": [
    "### How are the bestsellers priced?\n",
    "*NOTE: The price data is transformed from the original currency values, so the values do not mean the actual price in any currency. The data providers did not provide information on how the price data is transformed.*"
   ]
  },
  {
   "cell_type": "code",
   "execution_count": 17,
   "id": "7d88cdc5",
   "metadata": {
    "execution": {
     "iopub.execute_input": "2022-03-02T06:30:02.584081Z",
     "iopub.status.busy": "2022-03-02T06:30:02.583426Z",
     "iopub.status.idle": "2022-03-02T06:30:18.623986Z",
     "shell.execute_reply": "2022-03-02T06:30:18.623353Z",
     "shell.execute_reply.started": "2022-03-02T06:20:37.106623Z"
    },
    "papermill": {
     "duration": 16.116451,
     "end_time": "2022-03-02T06:30:18.624121",
     "exception": false,
     "start_time": "2022-03-02T06:30:02.507670",
     "status": "completed"
    },
    "tags": []
   },
   "outputs": [
    {
     "data": {
      "image/png": "[encoded data removed]",
      "text/plain": [
       "<Figure size 432x288 with 1 Axes>"
      ]
     },
     "metadata": {
      "needs_background": "light"
     },
     "output_type": "display_data"
    },
    {
     "data": {
      "image/png": "[encoded data removed]",
      "text/plain": [
       "<Figure size 432x288 with 1 Axes>"
      ]
     },
     "metadata": {
      "needs_background": "light"
     },
     "output_type": "display_data"
    },
    {
     "data": {
      "image/png": "[encoded data removed]",
      "text/plain": [
       "<Figure size 432x288 with 1 Axes>"
      ]
     },
     "metadata": {
      "needs_background": "light"
     },
     "output_type": "display_data"
    }
   ],
   "source": [
    "# drop duplicates such that each article at each price point is only considered once\n",
    "df_transactions_single = df_transactions.drop_duplicates()\n",
    "\n",
    "# price\n",
    "g = sns.boxplot(x=df_transactions_single['price'])\n",
    "plt.title('Price of All Articles')\n",
    "plt.show(g)\n",
    "\n",
    "g = sns.boxplot(x=df_transactions_single[~df_transactions_single['article_id'].isin(bestsellers['article_id'])]['price'])\n",
    "plt.title('Price of Non-Bestselling Articles')\n",
    "plt.show(g)\n",
    "\n",
    "g = sns.boxplot(x=df_transactions_single[df_transactions_single['article_id'].isin(bestsellers['article_id'])]['price'])\n",
    "plt.title('Price of Bestselling Articles')\n",
    "plt.show(g)\n"
   ]
  },
  {
   "cell_type": "markdown",
   "id": "d6b8aeaa",
   "metadata": {
    "papermill": {
     "duration": 0.081283,
     "end_time": "2022-03-02T06:30:18.793558",
     "exception": false,
     "start_time": "2022-03-02T06:30:18.712275",
     "status": "completed"
    },
    "tags": []
   },
   "source": [
    "Duplicates of transactions are removed so that every article at each price point is only considered once in the analysis of price distribution. The price distribution of non-bestselling articles is similar to all transactions, that is positively skewed. Most bestselling articles are the relatively **cheaper** offerings. None of the more expensive items (`price` > 0.25) made it to the bestsellers."
   ]
  },
  {
   "cell_type": "markdown",
   "id": "5653ea91",
   "metadata": {
    "papermill": {
     "duration": 0.087176,
     "end_time": "2022-03-02T06:30:18.956050",
     "exception": false,
     "start_time": "2022-03-02T06:30:18.868874",
     "status": "completed"
    },
    "tags": []
   },
   "source": [
    "### Which articles generate the most revenue? Are they the cheaper bestselling items or more expensive items?\n",
    "\n",
    "Since the prices are not the actual currency values and no cost data is provided, we cannot calculate and analyse the profits, so we will stick to analysing revenue. The absolute value of the revenues do not mean anything, it is just used for comparison among articles."
   ]
  },
  {
   "cell_type": "code",
   "execution_count": 18,
   "id": "0a50a329",
   "metadata": {
    "execution": {
     "iopub.execute_input": "2022-03-02T06:30:19.145461Z",
     "iopub.status.busy": "2022-03-02T06:30:19.144770Z",
     "iopub.status.idle": "2022-03-02T06:30:21.014044Z",
     "shell.execute_reply": "2022-03-02T06:30:21.013458Z",
     "shell.execute_reply.started": "2022-03-02T06:20:54.134054Z"
    },
    "papermill": {
     "duration": 1.946712,
     "end_time": "2022-03-02T06:30:21.014192",
     "exception": false,
     "start_time": "2022-03-02T06:30:19.067480",
     "status": "completed"
    },
    "tags": []
   },
   "outputs": [
    {
     "data": {
      "text/html": [
       "<div>\n",
       "<style scoped>\n",
       "    .dataframe tbody tr th:only-of-type {\n",
       "        vertical-align: middle;\n",
       "    }\n",
       "\n",
       "    .dataframe tbody tr th {\n",
       "        vertical-align: top;\n",
       "    }\n",
       "\n",
       "    .dataframe thead th {\n",
       "        text-align: right;\n",
       "    }\n",
       "</style>\n",
       "<table border=\"1\" class=\"dataframe\">\n",
       "  <thead>\n",
       "    <tr style=\"text-align: right;\">\n",
       "      <th></th>\n",
       "      <th>total_revenue_2019</th>\n",
       "    </tr>\n",
       "    <tr>\n",
       "      <th>article_id</th>\n",
       "      <th></th>\n",
       "    </tr>\n",
       "  </thead>\n",
       "  <tbody>\n",
       "    <tr>\n",
       "      <th>706016001</th>\n",
       "      <td>961.630203</td>\n",
       "    </tr>\n",
       "    <tr>\n",
       "      <th>706016002</th>\n",
       "      <td>724.329627</td>\n",
       "    </tr>\n",
       "    <tr>\n",
       "      <th>568601006</th>\n",
       "      <td>558.561610</td>\n",
       "    </tr>\n",
       "    <tr>\n",
       "      <th>706016003</th>\n",
       "      <td>406.686593</td>\n",
       "    </tr>\n",
       "    <tr>\n",
       "      <th>448509014</th>\n",
       "      <td>395.292847</td>\n",
       "    </tr>\n",
       "    <tr>\n",
       "      <th>562245046</th>\n",
       "      <td>387.646017</td>\n",
       "    </tr>\n",
       "    <tr>\n",
       "      <th>687704001</th>\n",
       "      <td>369.905814</td>\n",
       "    </tr>\n",
       "    <tr>\n",
       "      <th>399223001</th>\n",
       "      <td>357.103407</td>\n",
       "    </tr>\n",
       "    <tr>\n",
       "      <th>706016015</th>\n",
       "      <td>331.021492</td>\n",
       "    </tr>\n",
       "    <tr>\n",
       "      <th>730683001</th>\n",
       "      <td>303.236119</td>\n",
       "    </tr>\n",
       "  </tbody>\n",
       "</table>\n",
       "</div>"
      ],
      "text/plain": [
       "            total_revenue_2019\n",
       "article_id                    \n",
       "706016001           961.630203\n",
       "706016002           724.329627\n",
       "568601006           558.561610\n",
       "706016003           406.686593\n",
       "448509014           395.292847\n",
       "562245046           387.646017\n",
       "687704001           369.905814\n",
       "399223001           357.103407\n",
       "706016015           331.021492\n",
       "730683001           303.236119"
      ]
     },
     "execution_count": 18,
     "metadata": {},
     "output_type": "execute_result"
    }
   ],
   "source": [
    "article_revenue = df_transactions.groupby('article_id').sum()\n",
    "article_revenue.drop(columns=['customer_id', 'sales_channel_id', 'year', 'month', 'day'], inplace=True)\n",
    "article_revenue_ranking = article_revenue.sort_values(by='price', ascending=False)\n",
    "article_revenue_ranking.rename(columns={'price':'total_revenue_2019'}, inplace=True)\n",
    "article_revenue_ranking.head(10)"
   ]
  },
  {
   "cell_type": "markdown",
   "id": "fe1e1831",
   "metadata": {
    "papermill": {
     "duration": 0.076295,
     "end_time": "2022-03-02T06:30:21.166245",
     "exception": false,
     "start_time": "2022-03-02T06:30:21.089950",
     "status": "completed"
    },
    "tags": []
   },
   "source": [
    "The first two articles actually correspond to the top 2 bestsellers discovered earlier."
   ]
  },
  {
   "cell_type": "markdown",
   "id": "aba07d69",
   "metadata": {
    "papermill": {
     "duration": 0.086984,
     "end_time": "2022-03-02T06:30:21.345519",
     "exception": false,
     "start_time": "2022-03-02T06:30:21.258535",
     "status": "completed"
    },
    "tags": []
   },
   "source": [
    "From before, there are 105542 distinct `article_id` in the articles dataset. Hence we define the **top 1000** (~1%) articles bringing in the most revenue as the **top_performers**. "
   ]
  },
  {
   "cell_type": "code",
   "execution_count": 19,
   "id": "b68221c7",
   "metadata": {
    "execution": {
     "iopub.execute_input": "2022-03-02T06:30:21.498235Z",
     "iopub.status.busy": "2022-03-02T06:30:21.497632Z",
     "iopub.status.idle": "2022-03-02T06:30:29.315189Z",
     "shell.execute_reply": "2022-03-02T06:30:29.314600Z",
     "shell.execute_reply.started": "2022-03-02T06:20:56.062267Z"
    },
    "papermill": {
     "duration": 7.894406,
     "end_time": "2022-03-02T06:30:29.315320",
     "exception": false,
     "start_time": "2022-03-02T06:30:21.420914",
     "status": "completed"
    },
    "tags": []
   },
   "outputs": [
    {
     "data": {
      "text/html": [
       "<div>\n",
       "<style scoped>\n",
       "    .dataframe tbody tr th:only-of-type {\n",
       "        vertical-align: middle;\n",
       "    }\n",
       "\n",
       "    .dataframe tbody tr th {\n",
       "        vertical-align: top;\n",
       "    }\n",
       "\n",
       "    .dataframe thead th {\n",
       "        text-align: right;\n",
       "    }\n",
       "</style>\n",
       "<table border=\"1\" class=\"dataframe\">\n",
       "  <thead>\n",
       "    <tr style=\"text-align: right;\">\n",
       "      <th></th>\n",
       "      <th>article_id</th>\n",
       "      <th>product_code</th>\n",
       "      <th>prod_name</th>\n",
       "      <th>product_type_name</th>\n",
       "      <th>product_group_name</th>\n",
       "      <th>graphical_appearance_name</th>\n",
       "      <th>colour_group_name</th>\n",
       "      <th>perceived_colour_value_name</th>\n",
       "      <th>perceived_colour_master_name</th>\n",
       "      <th>department_name</th>\n",
       "      <th>index_name</th>\n",
       "      <th>index_group_name</th>\n",
       "      <th>section_name</th>\n",
       "      <th>garment_group_name</th>\n",
       "      <th>detail_desc</th>\n",
       "      <th>total_sales_2019</th>\n",
       "      <th>total_revenue_2019</th>\n",
       "    </tr>\n",
       "  </thead>\n",
       "  <tbody>\n",
       "    <tr>\n",
       "      <th>0</th>\n",
       "      <td>108775015</td>\n",
       "      <td>108775</td>\n",
       "      <td>Strap top</td>\n",
       "      <td>Vest top</td>\n",
       "      <td>Garment Upper body</td>\n",
       "      <td>Solid</td>\n",
       "      <td>Black</td>\n",
       "      <td>Dark</td>\n",
       "      <td>Black</td>\n",
       "      <td>Jersey Basic</td>\n",
       "      <td>Ladieswear</td>\n",
       "      <td>Ladieswear</td>\n",
       "      <td>Womens Everyday Basics</td>\n",
       "      <td>Jersey Basic</td>\n",
       "      <td>Jersey top with narrow shoulder straps.</td>\n",
       "      <td>5730</td>\n",
       "      <td>47.122797</td>\n",
       "    </tr>\n",
       "    <tr>\n",
       "      <th>1</th>\n",
       "      <td>108775044</td>\n",
       "      <td>108775</td>\n",
       "      <td>Strap top</td>\n",
       "      <td>Vest top</td>\n",
       "      <td>Garment Upper body</td>\n",
       "      <td>Solid</td>\n",
       "      <td>White</td>\n",
       "      <td>Light</td>\n",
       "      <td>White</td>\n",
       "      <td>Jersey Basic</td>\n",
       "      <td>Ladieswear</td>\n",
       "      <td>Ladieswear</td>\n",
       "      <td>Womens Everyday Basics</td>\n",
       "      <td>Jersey Basic</td>\n",
       "      <td>Jersey top with narrow shoulder straps.</td>\n",
       "      <td>4993</td>\n",
       "      <td>40.748695</td>\n",
       "    </tr>\n",
       "    <tr>\n",
       "      <th>2</th>\n",
       "      <td>108775051</td>\n",
       "      <td>108775</td>\n",
       "      <td>Strap top (1)</td>\n",
       "      <td>Vest top</td>\n",
       "      <td>Garment Upper body</td>\n",
       "      <td>Stripe</td>\n",
       "      <td>Off White</td>\n",
       "      <td>Dusty Light</td>\n",
       "      <td>White</td>\n",
       "      <td>Jersey Basic</td>\n",
       "      <td>Ladieswear</td>\n",
       "      <td>Ladieswear</td>\n",
       "      <td>Womens Everyday Basics</td>\n",
       "      <td>Jersey Basic</td>\n",
       "      <td>Jersey top with narrow shoulder straps.</td>\n",
       "      <td>2</td>\n",
       "      <td>0.016915</td>\n",
       "    </tr>\n",
       "    <tr>\n",
       "      <th>3</th>\n",
       "      <td>110065001</td>\n",
       "      <td>110065</td>\n",
       "      <td>OP T-shirt (Idro)</td>\n",
       "      <td>Bra</td>\n",
       "      <td>Underwear</td>\n",
       "      <td>Solid</td>\n",
       "      <td>Black</td>\n",
       "      <td>Dark</td>\n",
       "      <td>Black</td>\n",
       "      <td>Clean Lingerie</td>\n",
       "      <td>Lingeries/Tights</td>\n",
       "      <td>Ladieswear</td>\n",
       "      <td>Womens Lingerie</td>\n",
       "      <td>Under-, Nightwear</td>\n",
       "      <td>Microfibre T-shirt bra with underwired, moulde...</td>\n",
       "      <td>520</td>\n",
       "      <td>9.613000</td>\n",
       "    </tr>\n",
       "    <tr>\n",
       "      <th>4</th>\n",
       "      <td>110065002</td>\n",
       "      <td>110065</td>\n",
       "      <td>OP T-shirt (Idro)</td>\n",
       "      <td>Bra</td>\n",
       "      <td>Underwear</td>\n",
       "      <td>Solid</td>\n",
       "      <td>White</td>\n",
       "      <td>Light</td>\n",
       "      <td>White</td>\n",
       "      <td>Clean Lingerie</td>\n",
       "      <td>Lingeries/Tights</td>\n",
       "      <td>Ladieswear</td>\n",
       "      <td>Womens Lingerie</td>\n",
       "      <td>Under-, Nightwear</td>\n",
       "      <td>Microfibre T-shirt bra with underwired, moulde...</td>\n",
       "      <td>279</td>\n",
       "      <td>4.594932</td>\n",
       "    </tr>\n",
       "    <tr>\n",
       "      <th>...</th>\n",
       "      <td>...</td>\n",
       "      <td>...</td>\n",
       "      <td>...</td>\n",
       "      <td>...</td>\n",
       "      <td>...</td>\n",
       "      <td>...</td>\n",
       "      <td>...</td>\n",
       "      <td>...</td>\n",
       "      <td>...</td>\n",
       "      <td>...</td>\n",
       "      <td>...</td>\n",
       "      <td>...</td>\n",
       "      <td>...</td>\n",
       "      <td>...</td>\n",
       "      <td>...</td>\n",
       "      <td>...</td>\n",
       "      <td>...</td>\n",
       "    </tr>\n",
       "    <tr>\n",
       "      <th>105537</th>\n",
       "      <td>953450001</td>\n",
       "      <td>953450</td>\n",
       "      <td>5pk regular Placement1</td>\n",
       "      <td>Socks</td>\n",
       "      <td>Socks &amp; Tights</td>\n",
       "      <td>Placement print</td>\n",
       "      <td>Black</td>\n",
       "      <td>Dark</td>\n",
       "      <td>Black</td>\n",
       "      <td>Socks Bin</td>\n",
       "      <td>Menswear</td>\n",
       "      <td>Menswear</td>\n",
       "      <td>Men Underwear</td>\n",
       "      <td>Socks and Tights</td>\n",
       "      <td>Socks in a fine-knit cotton blend with a small...</td>\n",
       "      <td>0</td>\n",
       "      <td>0.000000</td>\n",
       "    </tr>\n",
       "    <tr>\n",
       "      <th>105538</th>\n",
       "      <td>953763001</td>\n",
       "      <td>953763</td>\n",
       "      <td>SPORT Malaga tank</td>\n",
       "      <td>Vest top</td>\n",
       "      <td>Garment Upper body</td>\n",
       "      <td>Solid</td>\n",
       "      <td>Black</td>\n",
       "      <td>Dark</td>\n",
       "      <td>Black</td>\n",
       "      <td>Jersey</td>\n",
       "      <td>Ladieswear</td>\n",
       "      <td>Ladieswear</td>\n",
       "      <td>H&amp;M+</td>\n",
       "      <td>Jersey Fancy</td>\n",
       "      <td>Loose-fitting sports vest top in ribbed fast-d...</td>\n",
       "      <td>0</td>\n",
       "      <td>0.000000</td>\n",
       "    </tr>\n",
       "    <tr>\n",
       "      <th>105539</th>\n",
       "      <td>956217002</td>\n",
       "      <td>956217</td>\n",
       "      <td>Cartwheel dress</td>\n",
       "      <td>Dress</td>\n",
       "      <td>Garment Full body</td>\n",
       "      <td>Solid</td>\n",
       "      <td>Black</td>\n",
       "      <td>Dark</td>\n",
       "      <td>Black</td>\n",
       "      <td>Jersey</td>\n",
       "      <td>Ladieswear</td>\n",
       "      <td>Ladieswear</td>\n",
       "      <td>Womens Trend</td>\n",
       "      <td>Jersey Fancy</td>\n",
       "      <td>Short, A-line dress in jersey with a round nec...</td>\n",
       "      <td>0</td>\n",
       "      <td>0.000000</td>\n",
       "    </tr>\n",
       "    <tr>\n",
       "      <th>105540</th>\n",
       "      <td>957375001</td>\n",
       "      <td>957375</td>\n",
       "      <td>CLAIRE HAIR CLAW</td>\n",
       "      <td>Hair clip</td>\n",
       "      <td>Accessories</td>\n",
       "      <td>Solid</td>\n",
       "      <td>Black</td>\n",
       "      <td>Dark</td>\n",
       "      <td>Black</td>\n",
       "      <td>Small Accessories</td>\n",
       "      <td>Divided</td>\n",
       "      <td>Divided</td>\n",
       "      <td>Divided Accessories</td>\n",
       "      <td>Accessories</td>\n",
       "      <td>Large plastic hair claw.</td>\n",
       "      <td>0</td>\n",
       "      <td>0.000000</td>\n",
       "    </tr>\n",
       "    <tr>\n",
       "      <th>105541</th>\n",
       "      <td>959461001</td>\n",
       "      <td>959461</td>\n",
       "      <td>Lounge dress</td>\n",
       "      <td>Dress</td>\n",
       "      <td>Garment Full body</td>\n",
       "      <td>Solid</td>\n",
       "      <td>Off White</td>\n",
       "      <td>Dusty Light</td>\n",
       "      <td>White</td>\n",
       "      <td>Jersey</td>\n",
       "      <td>Ladieswear</td>\n",
       "      <td>Ladieswear</td>\n",
       "      <td>Womens Trend</td>\n",
       "      <td>Jersey Fancy</td>\n",
       "      <td>Calf-length dress in ribbed jersey made from a...</td>\n",
       "      <td>0</td>\n",
       "      <td>0.000000</td>\n",
       "    </tr>\n",
       "  </tbody>\n",
       "</table>\n",
       "<p>105542 rows × 17 columns</p>\n",
       "</div>"
      ],
      "text/plain": [
       "        article_id  product_code               prod_name product_type_name  \\\n",
       "0        108775015        108775               Strap top          Vest top   \n",
       "1        108775044        108775               Strap top          Vest top   \n",
       "2        108775051        108775           Strap top (1)          Vest top   \n",
       "3        110065001        110065       OP T-shirt (Idro)               Bra   \n",
       "4        110065002        110065       OP T-shirt (Idro)               Bra   \n",
       "...            ...           ...                     ...               ...   \n",
       "105537   953450001        953450  5pk regular Placement1             Socks   \n",
       "105538   953763001        953763       SPORT Malaga tank          Vest top   \n",
       "105539   956217002        956217         Cartwheel dress             Dress   \n",
       "105540   957375001        957375        CLAIRE HAIR CLAW         Hair clip   \n",
       "105541   959461001        959461            Lounge dress             Dress   \n",
       "\n",
       "        product_group_name graphical_appearance_name colour_group_name  \\\n",
       "0       Garment Upper body                     Solid             Black   \n",
       "1       Garment Upper body                     Solid             White   \n",
       "2       Garment Upper body                    Stripe         Off White   \n",
       "3                Underwear                     Solid             Black   \n",
       "4                Underwear                     Solid             White   \n",
       "...                    ...                       ...               ...   \n",
       "105537      Socks & Tights           Placement print             Black   \n",
       "105538  Garment Upper body                     Solid             Black   \n",
       "105539   Garment Full body                     Solid             Black   \n",
       "105540         Accessories                     Solid             Black   \n",
       "105541   Garment Full body                     Solid         Off White   \n",
       "\n",
       "       perceived_colour_value_name perceived_colour_master_name  \\\n",
       "0                             Dark                        Black   \n",
       "1                            Light                        White   \n",
       "2                      Dusty Light                        White   \n",
       "3                             Dark                        Black   \n",
       "4                            Light                        White   \n",
       "...                            ...                          ...   \n",
       "105537                        Dark                        Black   \n",
       "105538                        Dark                        Black   \n",
       "105539                        Dark                        Black   \n",
       "105540                        Dark                        Black   \n",
       "105541                 Dusty Light                        White   \n",
       "\n",
       "          department_name        index_name index_group_name  \\\n",
       "0            Jersey Basic        Ladieswear       Ladieswear   \n",
       "1            Jersey Basic        Ladieswear       Ladieswear   \n",
       "2            Jersey Basic        Ladieswear       Ladieswear   \n",
       "3          Clean Lingerie  Lingeries/Tights       Ladieswear   \n",
       "4          Clean Lingerie  Lingeries/Tights       Ladieswear   \n",
       "...                   ...               ...              ...   \n",
       "105537          Socks Bin          Menswear         Menswear   \n",
       "105538             Jersey        Ladieswear       Ladieswear   \n",
       "105539             Jersey        Ladieswear       Ladieswear   \n",
       "105540  Small Accessories           Divided          Divided   \n",
       "105541             Jersey        Ladieswear       Ladieswear   \n",
       "\n",
       "                  section_name garment_group_name  \\\n",
       "0       Womens Everyday Basics       Jersey Basic   \n",
       "1       Womens Everyday Basics       Jersey Basic   \n",
       "2       Womens Everyday Basics       Jersey Basic   \n",
       "3              Womens Lingerie  Under-, Nightwear   \n",
       "4              Womens Lingerie  Under-, Nightwear   \n",
       "...                        ...                ...   \n",
       "105537           Men Underwear   Socks and Tights   \n",
       "105538                    H&M+       Jersey Fancy   \n",
       "105539            Womens Trend       Jersey Fancy   \n",
       "105540     Divided Accessories        Accessories   \n",
       "105541            Womens Trend       Jersey Fancy   \n",
       "\n",
       "                                              detail_desc  total_sales_2019  \\\n",
       "0                 Jersey top with narrow shoulder straps.              5730   \n",
       "1                 Jersey top with narrow shoulder straps.              4993   \n",
       "2                 Jersey top with narrow shoulder straps.                 2   \n",
       "3       Microfibre T-shirt bra with underwired, moulde...               520   \n",
       "4       Microfibre T-shirt bra with underwired, moulde...               279   \n",
       "...                                                   ...               ...   \n",
       "105537  Socks in a fine-knit cotton blend with a small...                 0   \n",
       "105538  Loose-fitting sports vest top in ribbed fast-d...                 0   \n",
       "105539  Short, A-line dress in jersey with a round nec...                 0   \n",
       "105540                           Large plastic hair claw.                 0   \n",
       "105541  Calf-length dress in ribbed jersey made from a...                 0   \n",
       "\n",
       "        total_revenue_2019  \n",
       "0                47.122797  \n",
       "1                40.748695  \n",
       "2                 0.016915  \n",
       "3                 9.613000  \n",
       "4                 4.594932  \n",
       "...                    ...  \n",
       "105537            0.000000  \n",
       "105538            0.000000  \n",
       "105539            0.000000  \n",
       "105540            0.000000  \n",
       "105541            0.000000  \n",
       "\n",
       "[105542 rows x 17 columns]"
      ]
     },
     "execution_count": 19,
     "metadata": {},
     "output_type": "execute_result"
    }
   ],
   "source": [
    "# add 2019 revenue data to df_articles\n",
    "article_revenue = df_transactions.groupby('article_id').sum()\n",
    "def f(x):\n",
    "    try:\n",
    "        return article_revenue.loc[x]['price']\n",
    "    except:\n",
    "        return 0\n",
    "df_articles['total_revenue_2019'] = df_articles['article_id'].apply(f)\n",
    "df_articles"
   ]
  },
  {
   "cell_type": "code",
   "execution_count": 20,
   "id": "25ad6254",
   "metadata": {
    "execution": {
     "iopub.execute_input": "2022-03-02T06:30:29.473068Z",
     "iopub.status.busy": "2022-03-02T06:30:29.470122Z",
     "iopub.status.idle": "2022-03-02T06:30:29.518965Z",
     "shell.execute_reply": "2022-03-02T06:30:29.518388Z",
     "shell.execute_reply.started": "2022-03-02T06:21:03.237408Z"
    },
    "papermill": {
     "duration": 0.12714,
     "end_time": "2022-03-02T06:30:29.519099",
     "exception": false,
     "start_time": "2022-03-02T06:30:29.391959",
     "status": "completed"
    },
    "tags": []
   },
   "outputs": [],
   "source": [
    "top_performers = df_articles.sort_values(by='total_revenue_2019', ascending=False).head(1000)\n",
    "# New column: 1 if article is bestseller AND top_performer, else 0\n",
    "df_articles['bestseller_revenue'] = df_articles['article_id'].isin(top_performers['article_id']).astype(int) * df_articles['article_id'].isin(bestsellers['article_id']).astype(int)"
   ]
  },
  {
   "cell_type": "code",
   "execution_count": 21,
   "id": "84b479bc",
   "metadata": {
    "execution": {
     "iopub.execute_input": "2022-03-02T06:30:29.675576Z",
     "iopub.status.busy": "2022-03-02T06:30:29.674888Z",
     "iopub.status.idle": "2022-03-02T06:30:29.678825Z",
     "shell.execute_reply": "2022-03-02T06:30:29.679431Z",
     "shell.execute_reply.started": "2022-03-02T06:21:03.287213Z"
    },
    "papermill": {
     "duration": 0.084954,
     "end_time": "2022-03-02T06:30:29.679601",
     "exception": false,
     "start_time": "2022-03-02T06:30:29.594647",
     "status": "completed"
    },
    "tags": []
   },
   "outputs": [
    {
     "name": "stdout",
     "output_type": "stream",
     "text": [
      "Number of articles that are both bestselling and top performing: 587\n"
     ]
    }
   ],
   "source": [
    "print(\"Number of articles that are both bestselling and top performing:\", df_articles['bestseller_revenue'].sum())"
   ]
  },
  {
   "cell_type": "markdown",
   "id": "e633b308",
   "metadata": {
    "papermill": {
     "duration": 0.076106,
     "end_time": "2022-03-02T06:30:29.831296",
     "exception": false,
     "start_time": "2022-03-02T06:30:29.755190",
     "status": "completed"
    },
    "tags": []
   },
   "source": [
    "**58.7%** of the bestsellers are also top performing (i.e. contributes to the top ~1% of revenue)."
   ]
  },
  {
   "cell_type": "code",
   "execution_count": 22,
   "id": "c7c6f6e8",
   "metadata": {
    "execution": {
     "iopub.execute_input": "2022-03-02T06:30:29.992439Z",
     "iopub.status.busy": "2022-03-02T06:30:29.991734Z",
     "iopub.status.idle": "2022-03-02T06:30:30.148396Z",
     "shell.execute_reply": "2022-03-02T06:30:30.149125Z",
     "shell.execute_reply.started": "2022-03-02T06:21:03.294125Z"
    },
    "papermill": {
     "duration": 0.239578,
     "end_time": "2022-03-02T06:30:30.149297",
     "exception": false,
     "start_time": "2022-03-02T06:30:29.909719",
     "status": "completed"
    },
    "tags": []
   },
   "outputs": [
    {
     "data": {
      "image/png": "[encoded data removed]",
      "text/plain": [
       "<Figure size 576x360 with 1 Axes>"
      ]
     },
     "metadata": {
      "needs_background": "light"
     },
     "output_type": "display_data"
    }
   ],
   "source": [
    "# plt.figure(figsize=(8,5))\n",
    "# g = sns.countplot(x=\"index_group_name\", \n",
    "#                   data=df_articles,\n",
    "#                   palette=\"husl\")\n",
    "# g.bar_label(g.containers[0])\n",
    "# g.tick_params(axis='x', rotation=90)\n",
    "# plt.title('All Articles on H&M')\n",
    "# plt.show(g)\n",
    "plt.figure(figsize=(8,5))\n",
    "g = sns.countplot(x=\"index_group_name\", \n",
    "                  data=top_performers,\n",
    "                  palette=\"pastel\")\n",
    "g.bar_label(g.containers[0])\n",
    "g.tick_params(axis='x', rotation=90)\n",
    "plt.title('Top Performing Articles on H&M')\n",
    "plt.show(g)"
   ]
  },
  {
   "cell_type": "markdown",
   "id": "fb69fd78",
   "metadata": {
    "papermill": {
     "duration": 0.077118,
     "end_time": "2022-03-02T06:30:30.303741",
     "exception": false,
     "start_time": "2022-03-02T06:30:30.226623",
     "status": "completed"
    },
    "tags": []
   },
   "source": [
    "Again, similar to the bestsellers, most customers that contribute to the revenue of H&M articles belong to the female demographic. Although H&M produces a lot of Baby/Children articles, none of them made it to the top performers. \n",
    "\n",
    "The distribution is similar to the bestsellers. Let's see if the sales and revenues are correlated."
   ]
  },
  {
   "cell_type": "code",
   "execution_count": 23,
   "id": "1011bb88",
   "metadata": {
    "execution": {
     "iopub.execute_input": "2022-03-02T06:30:30.463102Z",
     "iopub.status.busy": "2022-03-02T06:30:30.462427Z",
     "iopub.status.idle": "2022-03-02T06:30:30.470516Z",
     "shell.execute_reply": "2022-03-02T06:30:30.471077Z",
     "shell.execute_reply.started": "2022-03-02T06:21:03.461803Z"
    },
    "papermill": {
     "duration": 0.088762,
     "end_time": "2022-03-02T06:30:30.471237",
     "exception": false,
     "start_time": "2022-03-02T06:30:30.382475",
     "status": "completed"
    },
    "tags": []
   },
   "outputs": [
    {
     "data": {
      "text/plain": [
       "0.8637087587194995"
      ]
     },
     "execution_count": 23,
     "metadata": {},
     "output_type": "execute_result"
    }
   ],
   "source": [
    "#df['A'].corr(df['B'])\n",
    "df_articles['total_sales_2019'].corr(df_articles['total_revenue_2019'])"
   ]
  },
  {
   "cell_type": "markdown",
   "id": "44c7bd21",
   "metadata": {
    "papermill": {
     "duration": 0.078074,
     "end_time": "2022-03-02T06:30:30.627441",
     "exception": false,
     "start_time": "2022-03-02T06:30:30.549367",
     "status": "completed"
    },
    "tags": []
   },
   "source": [
    "Unsurprisingly, they are strongly correlated."
   ]
  },
  {
   "cell_type": "markdown",
   "id": "df9f10b5",
   "metadata": {
    "papermill": {
     "duration": 0.07955,
     "end_time": "2022-03-02T06:30:30.784940",
     "exception": false,
     "start_time": "2022-03-02T06:30:30.705390",
     "status": "completed"
    },
    "tags": []
   },
   "source": [
    "### How does each group of articles contribute to the revenue of H&M?\n",
    "Let us look at the breakdown of revenue by `index_group_name`."
   ]
  },
  {
   "cell_type": "code",
   "execution_count": 24,
   "id": "c89eaefa",
   "metadata": {
    "execution": {
     "iopub.execute_input": "2022-03-02T06:30:30.947924Z",
     "iopub.status.busy": "2022-03-02T06:30:30.947219Z",
     "iopub.status.idle": "2022-03-02T06:30:30.972891Z",
     "shell.execute_reply": "2022-03-02T06:30:30.972397Z",
     "shell.execute_reply.started": "2022-03-02T06:21:03.475012Z"
    },
    "papermill": {
     "duration": 0.107437,
     "end_time": "2022-03-02T06:30:30.973027",
     "exception": false,
     "start_time": "2022-03-02T06:30:30.865590",
     "status": "completed"
    },
    "tags": []
   },
   "outputs": [
    {
     "data": {
      "text/html": [
       "<div>\n",
       "<style scoped>\n",
       "    .dataframe tbody tr th:only-of-type {\n",
       "        vertical-align: middle;\n",
       "    }\n",
       "\n",
       "    .dataframe tbody tr th {\n",
       "        vertical-align: top;\n",
       "    }\n",
       "\n",
       "    .dataframe thead th {\n",
       "        text-align: right;\n",
       "    }\n",
       "</style>\n",
       "<table border=\"1\" class=\"dataframe\">\n",
       "  <thead>\n",
       "    <tr style=\"text-align: right;\">\n",
       "      <th></th>\n",
       "      <th>index_group_name</th>\n",
       "      <th>total_revenue_2019</th>\n",
       "    </tr>\n",
       "  </thead>\n",
       "  <tbody>\n",
       "    <tr>\n",
       "      <th>0</th>\n",
       "      <td>Baby/Children</td>\n",
       "      <td>11025.073136</td>\n",
       "    </tr>\n",
       "    <tr>\n",
       "      <th>1</th>\n",
       "      <td>Divided</td>\n",
       "      <td>97801.667695</td>\n",
       "    </tr>\n",
       "    <tr>\n",
       "      <th>2</th>\n",
       "      <td>Ladieswear</td>\n",
       "      <td>305267.235695</td>\n",
       "    </tr>\n",
       "    <tr>\n",
       "      <th>3</th>\n",
       "      <td>Menswear</td>\n",
       "      <td>24685.962153</td>\n",
       "    </tr>\n",
       "    <tr>\n",
       "      <th>4</th>\n",
       "      <td>Sport</td>\n",
       "      <td>16824.939288</td>\n",
       "    </tr>\n",
       "  </tbody>\n",
       "</table>\n",
       "</div>"
      ],
      "text/plain": [
       "  index_group_name  total_revenue_2019\n",
       "0    Baby/Children        11025.073136\n",
       "1          Divided        97801.667695\n",
       "2       Ladieswear       305267.235695\n",
       "3         Menswear        24685.962153\n",
       "4            Sport        16824.939288"
      ]
     },
     "execution_count": 24,
     "metadata": {},
     "output_type": "execute_result"
    }
   ],
   "source": [
    "index_group_revenue = df_articles[['index_group_name','total_revenue_2019']].groupby('index_group_name').total_revenue_2019.sum().reset_index()\n",
    "index_group_revenue"
   ]
  },
  {
   "cell_type": "code",
   "execution_count": 25,
   "id": "ed445450",
   "metadata": {
    "execution": {
     "iopub.execute_input": "2022-03-02T06:30:31.149631Z",
     "iopub.status.busy": "2022-03-02T06:30:31.135955Z",
     "iopub.status.idle": "2022-03-02T06:30:31.265332Z",
     "shell.execute_reply": "2022-03-02T06:30:31.265829Z",
     "shell.execute_reply.started": "2022-03-02T06:21:03.501312Z"
    },
    "papermill": {
     "duration": 0.214809,
     "end_time": "2022-03-02T06:30:31.265992",
     "exception": false,
     "start_time": "2022-03-02T06:30:31.051183",
     "status": "completed"
    },
    "tags": []
   },
   "outputs": [
    {
     "data": {
      "image/png": "[encoded data removed]",
      "text/plain": [
       "<Figure size 576x576 with 1 Axes>"
      ]
     },
     "metadata": {},
     "output_type": "display_data"
    }
   ],
   "source": [
    "plt.figure(figsize=(8,8))\n",
    "colors = sns.color_palette('pastel')\n",
    "plt.pie(x=index_group_revenue['total_revenue_2019'], labels=index_group_revenue['index_group_name'], colors=colors, autopct='%1.1f%%')\n",
    "plt.title('Revenue Contribution by Index Group')\n",
    "plt.show()"
   ]
  },
  {
   "cell_type": "markdown",
   "id": "cf8fef29",
   "metadata": {
    "papermill": {
     "duration": 0.079283,
     "end_time": "2022-03-02T06:30:31.425923",
     "exception": false,
     "start_time": "2022-03-02T06:30:31.346640",
     "status": "completed"
    },
    "tags": []
   },
   "source": [
    "Ladieswear and Divided, which are both feminine styles, contribute to **88.5%** of revenue in 2019."
   ]
  },
  {
   "cell_type": "markdown",
   "id": "b7c14f05",
   "metadata": {
    "papermill": {
     "duration": 0.079892,
     "end_time": "2022-03-02T06:30:31.584448",
     "exception": false,
     "start_time": "2022-03-02T06:30:31.504556",
     "status": "completed"
    },
    "tags": []
   },
   "source": [
    "### Focusing on the #1 bestseller / top performer, how do its price and sales vary along time?"
   ]
  },
  {
   "cell_type": "code",
   "execution_count": 26,
   "id": "7e85065e",
   "metadata": {
    "execution": {
     "iopub.execute_input": "2022-03-02T06:30:31.746728Z",
     "iopub.status.busy": "2022-03-02T06:30:31.746090Z",
     "iopub.status.idle": "2022-03-02T06:30:31.752096Z",
     "shell.execute_reply": "2022-03-02T06:30:31.752692Z",
     "shell.execute_reply.started": "2022-03-02T06:21:03.630501Z"
    },
    "papermill": {
     "duration": 0.088774,
     "end_time": "2022-03-02T06:30:31.752854",
     "exception": false,
     "start_time": "2022-03-02T06:30:31.664080",
     "status": "completed"
    },
    "tags": []
   },
   "outputs": [
    {
     "data": {
      "text/plain": [
       "'High-waisted jeans in washed superstretch denim with a zip fly and button, fake front pockets, real back pockets and super-skinny legs.'"
      ]
     },
     "execution_count": 26,
     "metadata": {},
     "output_type": "execute_result"
    }
   ],
   "source": [
    "list(df_articles[df_articles['article_id'] == 706016001]['detail_desc'])[0]"
   ]
  },
  {
   "cell_type": "code",
   "execution_count": 27,
   "id": "da54c860",
   "metadata": {
    "execution": {
     "iopub.execute_input": "2022-03-02T06:30:31.917024Z",
     "iopub.status.busy": "2022-03-02T06:30:31.916408Z",
     "iopub.status.idle": "2022-03-02T06:30:31.951018Z",
     "shell.execute_reply": "2022-03-02T06:30:31.951625Z",
     "shell.execute_reply.started": "2022-03-02T06:21:03.640695Z"
    },
    "papermill": {
     "duration": 0.118689,
     "end_time": "2022-03-02T06:30:31.951808",
     "exception": false,
     "start_time": "2022-03-02T06:30:31.833119",
     "status": "completed"
    },
    "tags": []
   },
   "outputs": [
    {
     "data": {
      "text/html": [
       "<div>\n",
       "<style scoped>\n",
       "    .dataframe tbody tr th:only-of-type {\n",
       "        vertical-align: middle;\n",
       "    }\n",
       "\n",
       "    .dataframe tbody tr th {\n",
       "        vertical-align: top;\n",
       "    }\n",
       "\n",
       "    .dataframe thead th {\n",
       "        text-align: right;\n",
       "    }\n",
       "</style>\n",
       "<table border=\"1\" class=\"dataframe\">\n",
       "  <thead>\n",
       "    <tr style=\"text-align: right;\">\n",
       "      <th></th>\n",
       "      <th>t_dat</th>\n",
       "      <th>customer_id</th>\n",
       "      <th>article_id</th>\n",
       "      <th>price</th>\n",
       "      <th>sales_channel_id</th>\n",
       "      <th>year</th>\n",
       "      <th>month</th>\n",
       "      <th>day</th>\n",
       "    </tr>\n",
       "  </thead>\n",
       "  <tbody>\n",
       "    <tr>\n",
       "      <th>20806370</th>\n",
       "      <td>2019-12-31</td>\n",
       "      <td>-4119450782388811488</td>\n",
       "      <td>706016001</td>\n",
       "      <td>0.033881</td>\n",
       "      <td>1</td>\n",
       "      <td>19</td>\n",
       "      <td>12</td>\n",
       "      <td>31</td>\n",
       "    </tr>\n",
       "    <tr>\n",
       "      <th>20806492</th>\n",
       "      <td>2019-12-31</td>\n",
       "      <td>7497827688329659750</td>\n",
       "      <td>706016001</td>\n",
       "      <td>0.030492</td>\n",
       "      <td>2</td>\n",
       "      <td>19</td>\n",
       "      <td>12</td>\n",
       "      <td>31</td>\n",
       "    </tr>\n",
       "    <tr>\n",
       "      <th>20806517</th>\n",
       "      <td>2019-12-31</td>\n",
       "      <td>562928425408932582</td>\n",
       "      <td>706016001</td>\n",
       "      <td>0.033881</td>\n",
       "      <td>1</td>\n",
       "      <td>19</td>\n",
       "      <td>12</td>\n",
       "      <td>31</td>\n",
       "    </tr>\n",
       "    <tr>\n",
       "      <th>20807305</th>\n",
       "      <td>2019-12-31</td>\n",
       "      <td>8748820586202779005</td>\n",
       "      <td>706016001</td>\n",
       "      <td>0.030492</td>\n",
       "      <td>2</td>\n",
       "      <td>19</td>\n",
       "      <td>12</td>\n",
       "      <td>31</td>\n",
       "    </tr>\n",
       "    <tr>\n",
       "      <th>20808083</th>\n",
       "      <td>2019-12-31</td>\n",
       "      <td>9423813441034434</td>\n",
       "      <td>706016001</td>\n",
       "      <td>0.016932</td>\n",
       "      <td>1</td>\n",
       "      <td>19</td>\n",
       "      <td>12</td>\n",
       "      <td>31</td>\n",
       "    </tr>\n",
       "  </tbody>\n",
       "</table>\n",
       "</div>"
      ],
      "text/plain": [
       "              t_dat          customer_id  article_id     price  \\\n",
       "20806370 2019-12-31 -4119450782388811488   706016001  0.033881   \n",
       "20806492 2019-12-31  7497827688329659750   706016001  0.030492   \n",
       "20806517 2019-12-31   562928425408932582   706016001  0.033881   \n",
       "20807305 2019-12-31  8748820586202779005   706016001  0.030492   \n",
       "20808083 2019-12-31     9423813441034434   706016001  0.016932   \n",
       "\n",
       "          sales_channel_id  year  month  day  \n",
       "20806370                 1    19     12   31  \n",
       "20806492                 2    19     12   31  \n",
       "20806517                 1    19     12   31  \n",
       "20807305                 2    19     12   31  \n",
       "20808083                 1    19     12   31  "
      ]
     },
     "execution_count": 27,
     "metadata": {},
     "output_type": "execute_result"
    }
   ],
   "source": [
    "num1_transactions = df_transactions[df_transactions['article_id'] == 706016001]\n",
    "num1_transactions.tail()"
   ]
  },
  {
   "cell_type": "markdown",
   "id": "cea44923",
   "metadata": {
    "papermill": {
     "duration": 0.080713,
     "end_time": "2022-03-02T06:30:32.113157",
     "exception": false,
     "start_time": "2022-03-02T06:30:32.032444",
     "status": "completed"
    },
    "tags": []
   },
   "source": [
    "Interestingly, the price of the same article on the same day could be different.\n",
    "\n",
    "We calculate the daily average price for further analysis."
   ]
  },
  {
   "cell_type": "code",
   "execution_count": 28,
   "id": "4449b7c1",
   "metadata": {
    "execution": {
     "iopub.execute_input": "2022-03-02T06:30:32.287679Z",
     "iopub.status.busy": "2022-03-02T06:30:32.287001Z",
     "iopub.status.idle": "2022-03-02T06:30:32.330188Z",
     "shell.execute_reply": "2022-03-02T06:30:32.330766Z",
     "shell.execute_reply.started": "2022-03-02T06:21:03.684733Z"
    },
    "papermill": {
     "duration": 0.133884,
     "end_time": "2022-03-02T06:30:32.330937",
     "exception": false,
     "start_time": "2022-03-02T06:30:32.197053",
     "status": "completed"
    },
    "tags": []
   },
   "outputs": [
    {
     "data": {
      "text/html": [
       "<div>\n",
       "<style scoped>\n",
       "    .dataframe tbody tr th:only-of-type {\n",
       "        vertical-align: middle;\n",
       "    }\n",
       "\n",
       "    .dataframe tbody tr th {\n",
       "        vertical-align: top;\n",
       "    }\n",
       "\n",
       "    .dataframe thead th {\n",
       "        text-align: right;\n",
       "    }\n",
       "</style>\n",
       "<table border=\"1\" class=\"dataframe\">\n",
       "  <thead>\n",
       "    <tr style=\"text-align: right;\">\n",
       "      <th></th>\n",
       "      <th>customer_id</th>\n",
       "      <th>article_id</th>\n",
       "      <th>price</th>\n",
       "      <th>sales_channel_id</th>\n",
       "      <th>year</th>\n",
       "      <th>month</th>\n",
       "      <th>day</th>\n",
       "      <th>daily_sales</th>\n",
       "    </tr>\n",
       "    <tr>\n",
       "      <th>t_dat</th>\n",
       "      <th></th>\n",
       "      <th></th>\n",
       "      <th></th>\n",
       "      <th></th>\n",
       "      <th></th>\n",
       "      <th></th>\n",
       "      <th></th>\n",
       "      <th></th>\n",
       "    </tr>\n",
       "  </thead>\n",
       "  <tbody>\n",
       "    <tr>\n",
       "      <th>2019-01-01</th>\n",
       "      <td>1.524446e+18</td>\n",
       "      <td>706016001.0</td>\n",
       "      <td>0.033881</td>\n",
       "      <td>2.000000</td>\n",
       "      <td>19.0</td>\n",
       "      <td>1.0</td>\n",
       "      <td>1.0</td>\n",
       "      <td>32</td>\n",
       "    </tr>\n",
       "    <tr>\n",
       "      <th>2019-01-02</th>\n",
       "      <td>1.222791e+18</td>\n",
       "      <td>706016001.0</td>\n",
       "      <td>0.033608</td>\n",
       "      <td>1.771429</td>\n",
       "      <td>19.0</td>\n",
       "      <td>1.0</td>\n",
       "      <td>2.0</td>\n",
       "      <td>70</td>\n",
       "    </tr>\n",
       "    <tr>\n",
       "      <th>2019-01-03</th>\n",
       "      <td>1.521202e+17</td>\n",
       "      <td>706016001.0</td>\n",
       "      <td>0.033341</td>\n",
       "      <td>1.741935</td>\n",
       "      <td>19.0</td>\n",
       "      <td>1.0</td>\n",
       "      <td>3.0</td>\n",
       "      <td>93</td>\n",
       "    </tr>\n",
       "    <tr>\n",
       "      <th>2019-01-04</th>\n",
       "      <td>-9.543920e+16</td>\n",
       "      <td>706016001.0</td>\n",
       "      <td>0.033132</td>\n",
       "      <td>1.808511</td>\n",
       "      <td>19.0</td>\n",
       "      <td>1.0</td>\n",
       "      <td>4.0</td>\n",
       "      <td>94</td>\n",
       "    </tr>\n",
       "    <tr>\n",
       "      <th>2019-01-05</th>\n",
       "      <td>4.054734e+17</td>\n",
       "      <td>706016001.0</td>\n",
       "      <td>0.033417</td>\n",
       "      <td>1.806452</td>\n",
       "      <td>19.0</td>\n",
       "      <td>1.0</td>\n",
       "      <td>5.0</td>\n",
       "      <td>93</td>\n",
       "    </tr>\n",
       "    <tr>\n",
       "      <th>...</th>\n",
       "      <td>...</td>\n",
       "      <td>...</td>\n",
       "      <td>...</td>\n",
       "      <td>...</td>\n",
       "      <td>...</td>\n",
       "      <td>...</td>\n",
       "      <td>...</td>\n",
       "      <td>...</td>\n",
       "    </tr>\n",
       "    <tr>\n",
       "      <th>2019-12-27</th>\n",
       "      <td>1.889762e+18</td>\n",
       "      <td>706016001.0</td>\n",
       "      <td>0.032946</td>\n",
       "      <td>1.746835</td>\n",
       "      <td>19.0</td>\n",
       "      <td>12.0</td>\n",
       "      <td>27.0</td>\n",
       "      <td>79</td>\n",
       "    </tr>\n",
       "    <tr>\n",
       "      <th>2019-12-28</th>\n",
       "      <td>-4.088170e+17</td>\n",
       "      <td>706016001.0</td>\n",
       "      <td>0.032548</td>\n",
       "      <td>1.618421</td>\n",
       "      <td>19.0</td>\n",
       "      <td>12.0</td>\n",
       "      <td>28.0</td>\n",
       "      <td>76</td>\n",
       "    </tr>\n",
       "    <tr>\n",
       "      <th>2019-12-29</th>\n",
       "      <td>-1.323665e+18</td>\n",
       "      <td>706016001.0</td>\n",
       "      <td>0.033049</td>\n",
       "      <td>1.850575</td>\n",
       "      <td>19.0</td>\n",
       "      <td>12.0</td>\n",
       "      <td>29.0</td>\n",
       "      <td>87</td>\n",
       "    </tr>\n",
       "    <tr>\n",
       "      <th>2019-12-30</th>\n",
       "      <td>1.295592e+17</td>\n",
       "      <td>706016001.0</td>\n",
       "      <td>0.032980</td>\n",
       "      <td>1.670732</td>\n",
       "      <td>19.0</td>\n",
       "      <td>12.0</td>\n",
       "      <td>30.0</td>\n",
       "      <td>82</td>\n",
       "    </tr>\n",
       "    <tr>\n",
       "      <th>2019-12-31</th>\n",
       "      <td>-6.953833e+17</td>\n",
       "      <td>706016001.0</td>\n",
       "      <td>0.031932</td>\n",
       "      <td>1.549020</td>\n",
       "      <td>19.0</td>\n",
       "      <td>12.0</td>\n",
       "      <td>31.0</td>\n",
       "      <td>51</td>\n",
       "    </tr>\n",
       "  </tbody>\n",
       "</table>\n",
       "<p>365 rows × 8 columns</p>\n",
       "</div>"
      ],
      "text/plain": [
       "             customer_id   article_id     price  sales_channel_id  year  \\\n",
       "t_dat                                                                     \n",
       "2019-01-01  1.524446e+18  706016001.0  0.033881          2.000000  19.0   \n",
       "2019-01-02  1.222791e+18  706016001.0  0.033608          1.771429  19.0   \n",
       "2019-01-03  1.521202e+17  706016001.0  0.033341          1.741935  19.0   \n",
       "2019-01-04 -9.543920e+16  706016001.0  0.033132          1.808511  19.0   \n",
       "2019-01-05  4.054734e+17  706016001.0  0.033417          1.806452  19.0   \n",
       "...                  ...          ...       ...               ...   ...   \n",
       "2019-12-27  1.889762e+18  706016001.0  0.032946          1.746835  19.0   \n",
       "2019-12-28 -4.088170e+17  706016001.0  0.032548          1.618421  19.0   \n",
       "2019-12-29 -1.323665e+18  706016001.0  0.033049          1.850575  19.0   \n",
       "2019-12-30  1.295592e+17  706016001.0  0.032980          1.670732  19.0   \n",
       "2019-12-31 -6.953833e+17  706016001.0  0.031932          1.549020  19.0   \n",
       "\n",
       "            month   day  daily_sales  \n",
       "t_dat                                 \n",
       "2019-01-01    1.0   1.0           32  \n",
       "2019-01-02    1.0   2.0           70  \n",
       "2019-01-03    1.0   3.0           93  \n",
       "2019-01-04    1.0   4.0           94  \n",
       "2019-01-05    1.0   5.0           93  \n",
       "...           ...   ...          ...  \n",
       "2019-12-27   12.0  27.0           79  \n",
       "2019-12-28   12.0  28.0           76  \n",
       "2019-12-29   12.0  29.0           87  \n",
       "2019-12-30   12.0  30.0           82  \n",
       "2019-12-31   12.0  31.0           51  \n",
       "\n",
       "[365 rows x 8 columns]"
      ]
     },
     "execution_count": 28,
     "metadata": {},
     "output_type": "execute_result"
    }
   ],
   "source": [
    "num1_day = num1_transactions.groupby(['t_dat']).mean()\n",
    "#num1_day_sales = num1_transactions.groupby(['t_dat']).count()\n",
    "num1_day['daily_sales'] = num1_transactions.groupby(['t_dat']).count()['customer_id']\n",
    "num1_day"
   ]
  },
  {
   "cell_type": "code",
   "execution_count": 29,
   "id": "9512f689",
   "metadata": {
    "execution": {
     "iopub.execute_input": "2022-03-02T06:30:32.499055Z",
     "iopub.status.busy": "2022-03-02T06:30:32.498429Z",
     "iopub.status.idle": "2022-03-02T06:30:33.473991Z",
     "shell.execute_reply": "2022-03-02T06:30:33.474463Z",
     "shell.execute_reply.started": "2022-03-02T06:21:03.727544Z"
    },
    "papermill": {
     "duration": 1.060624,
     "end_time": "2022-03-02T06:30:33.474618",
     "exception": false,
     "start_time": "2022-03-02T06:30:32.413994",
     "status": "completed"
    },
    "tags": []
   },
   "outputs": [
    {
     "data": {
      "image/png": "[encoded data removed]",
      "text/plain": [
       "<Figure size 1800x576 with 2 Axes>"
      ]
     },
     "metadata": {},
     "output_type": "display_data"
    }
   ],
   "source": [
    "article_id_of_interest = 706016001\n",
    "\n",
    "plt.rc('figure', figsize=(25, 8))   # this is to overwrite default aspect of graph to make x-axis longer\n",
    "\n",
    "fig, ax1 = plt.subplots()\n",
    "ax1.plot(num1_day.index, num1_day['price'], color='#2ca02c')\n",
    "ax1.set_ylabel('Daily Average Price (scaled)', color='#2ca02c')\n",
    "ax1.tick_params('y', colors='#2ca02c')\n",
    "ax1.set_ylim(bottom=max(num1_day['price'].min()-num1_day['price'].mean(), 0))\n",
    "ax2 = plt.twinx()\n",
    "ax2.bar(num1_day.index, num1_day['daily_sales'], color='#17becf')\n",
    "ax2.set_ylabel('Daily Sales', color='#17becf')\n",
    "ax2.tick_params('y', colors='#17becf')\n",
    "ax2.set_ylim(top=num1_day['daily_sales'].max()+num1_day['daily_sales'].mean())\n",
    "plt.title('Daily Sales and Prices of article {}'.format(article_id_of_interest))\n",
    "plt.show()"
   ]
  },
  {
   "cell_type": "code",
   "execution_count": 30,
   "id": "fc3cdeb7",
   "metadata": {
    "execution": {
     "iopub.execute_input": "2022-03-02T06:30:33.654792Z",
     "iopub.status.busy": "2022-03-02T06:30:33.647403Z",
     "iopub.status.idle": "2022-03-02T06:30:33.663271Z",
     "shell.execute_reply": "2022-03-02T06:30:33.663786Z",
     "shell.execute_reply.started": "2022-03-02T06:21:04.568545Z"
    },
    "papermill": {
     "duration": 0.104573,
     "end_time": "2022-03-02T06:30:33.663952",
     "exception": false,
     "start_time": "2022-03-02T06:30:33.559379",
     "status": "completed"
    },
    "tags": []
   },
   "outputs": [
    {
     "data": {
      "text/html": [
       "<div>\n",
       "<style scoped>\n",
       "    .dataframe tbody tr th:only-of-type {\n",
       "        vertical-align: middle;\n",
       "    }\n",
       "\n",
       "    .dataframe tbody tr th {\n",
       "        vertical-align: top;\n",
       "    }\n",
       "\n",
       "    .dataframe thead th {\n",
       "        text-align: right;\n",
       "    }\n",
       "</style>\n",
       "<table border=\"1\" class=\"dataframe\">\n",
       "  <thead>\n",
       "    <tr style=\"text-align: right;\">\n",
       "      <th></th>\n",
       "      <th>customer_id</th>\n",
       "      <th>article_id</th>\n",
       "      <th>price</th>\n",
       "      <th>sales_channel_id</th>\n",
       "      <th>year</th>\n",
       "      <th>month</th>\n",
       "      <th>day</th>\n",
       "      <th>daily_sales</th>\n",
       "    </tr>\n",
       "    <tr>\n",
       "      <th>t_dat</th>\n",
       "      <th></th>\n",
       "      <th></th>\n",
       "      <th></th>\n",
       "      <th></th>\n",
       "      <th></th>\n",
       "      <th></th>\n",
       "      <th></th>\n",
       "      <th></th>\n",
       "    </tr>\n",
       "  </thead>\n",
       "  <tbody>\n",
       "    <tr>\n",
       "      <th>2019-11-29</th>\n",
       "      <td>-2.130017e+17</td>\n",
       "      <td>706016001.0</td>\n",
       "      <td>0.026384</td>\n",
       "      <td>1.947813</td>\n",
       "      <td>19.0</td>\n",
       "      <td>11.0</td>\n",
       "      <td>29.0</td>\n",
       "      <td>1303</td>\n",
       "    </tr>\n",
       "    <tr>\n",
       "      <th>2019-11-28</th>\n",
       "      <td>-2.439654e+17</td>\n",
       "      <td>706016001.0</td>\n",
       "      <td>0.026217</td>\n",
       "      <td>1.963788</td>\n",
       "      <td>19.0</td>\n",
       "      <td>11.0</td>\n",
       "      <td>28.0</td>\n",
       "      <td>718</td>\n",
       "    </tr>\n",
       "    <tr>\n",
       "      <th>2019-09-28</th>\n",
       "      <td>8.699796e+16</td>\n",
       "      <td>706016001.0</td>\n",
       "      <td>0.027598</td>\n",
       "      <td>1.948837</td>\n",
       "      <td>19.0</td>\n",
       "      <td>9.0</td>\n",
       "      <td>28.0</td>\n",
       "      <td>645</td>\n",
       "    </tr>\n",
       "    <tr>\n",
       "      <th>2019-11-30</th>\n",
       "      <td>-6.418614e+16</td>\n",
       "      <td>706016001.0</td>\n",
       "      <td>0.027006</td>\n",
       "      <td>1.942857</td>\n",
       "      <td>19.0</td>\n",
       "      <td>11.0</td>\n",
       "      <td>30.0</td>\n",
       "      <td>490</td>\n",
       "    </tr>\n",
       "    <tr>\n",
       "      <th>2019-11-03</th>\n",
       "      <td>-2.125676e+17</td>\n",
       "      <td>706016001.0</td>\n",
       "      <td>0.027833</td>\n",
       "      <td>1.958716</td>\n",
       "      <td>19.0</td>\n",
       "      <td>11.0</td>\n",
       "      <td>3.0</td>\n",
       "      <td>218</td>\n",
       "    </tr>\n",
       "  </tbody>\n",
       "</table>\n",
       "</div>"
      ],
      "text/plain": [
       "             customer_id   article_id     price  sales_channel_id  year  \\\n",
       "t_dat                                                                     \n",
       "2019-11-29 -2.130017e+17  706016001.0  0.026384          1.947813  19.0   \n",
       "2019-11-28 -2.439654e+17  706016001.0  0.026217          1.963788  19.0   \n",
       "2019-09-28  8.699796e+16  706016001.0  0.027598          1.948837  19.0   \n",
       "2019-11-30 -6.418614e+16  706016001.0  0.027006          1.942857  19.0   \n",
       "2019-11-03 -2.125676e+17  706016001.0  0.027833          1.958716  19.0   \n",
       "\n",
       "            month   day  daily_sales  \n",
       "t_dat                                 \n",
       "2019-11-29   11.0  29.0         1303  \n",
       "2019-11-28   11.0  28.0          718  \n",
       "2019-09-28    9.0  28.0          645  \n",
       "2019-11-30   11.0  30.0          490  \n",
       "2019-11-03   11.0   3.0          218  "
      ]
     },
     "execution_count": 30,
     "metadata": {},
     "output_type": "execute_result"
    }
   ],
   "source": [
    "num1_day.sort_values(by='daily_sales', ascending=False).head()"
   ]
  },
  {
   "cell_type": "markdown",
   "id": "e412231e",
   "metadata": {
    "papermill": {
     "duration": 0.086274,
     "end_time": "2022-03-02T06:30:33.834985",
     "exception": false,
     "start_time": "2022-03-02T06:30:33.748711",
     "status": "completed"
    },
    "tags": []
   },
   "source": [
    "We can see that price dips in Autumn and Winter results in strong peaks in the daily sales. Price dips in other months were less impactful on the daily sales. The lowest price dip occured during Black Friday, which had significant sales."
   ]
  },
  {
   "cell_type": "code",
   "execution_count": 31,
   "id": "9e13067e",
   "metadata": {
    "execution": {
     "iopub.execute_input": "2022-03-02T06:30:34.011548Z",
     "iopub.status.busy": "2022-03-02T06:30:34.010875Z",
     "iopub.status.idle": "2022-03-02T06:30:34.233535Z",
     "shell.execute_reply": "2022-03-02T06:30:34.233012Z",
     "shell.execute_reply.started": "2022-03-02T06:21:04.587660Z"
    },
    "papermill": {
     "duration": 0.313325,
     "end_time": "2022-03-02T06:30:34.233677",
     "exception": false,
     "start_time": "2022-03-02T06:30:33.920352",
     "status": "completed"
    },
    "tags": []
   },
   "outputs": [
    {
     "data": {
      "image/png": "[encoded data removed]",
      "text/plain": [
       "<Figure size 720x360 with 1 Axes>"
      ]
     },
     "metadata": {
      "needs_background": "light"
     },
     "output_type": "display_data"
    }
   ],
   "source": [
    "plt.figure(figsize=(10,5))\n",
    "sns.scatterplot(x='price',y='daily_sales',data=num1_day)\n",
    "plt.show()"
   ]
  },
  {
   "cell_type": "markdown",
   "id": "c3530c09",
   "metadata": {
    "papermill": {
     "duration": 0.085818,
     "end_time": "2022-03-02T06:30:34.404977",
     "exception": false,
     "start_time": "2022-03-02T06:30:34.319159",
     "status": "completed"
    },
    "tags": []
   },
   "source": [
    "There are very little datapoints at the lower prices but it is obvious that lower prices generate more sales when price < 0.03."
   ]
  },
  {
   "cell_type": "markdown",
   "id": "ee66ca7c",
   "metadata": {
    "papermill": {
     "duration": 0.084601,
     "end_time": "2022-03-02T06:30:34.576469",
     "exception": false,
     "start_time": "2022-03-02T06:30:34.491868",
     "status": "completed"
    },
    "tags": []
   },
   "source": [
    "### What about other articles? How are their sales and price trends different or similar to the #1 bestseller?"
   ]
  },
  {
   "cell_type": "code",
   "execution_count": 32,
   "id": "0f81c5d8",
   "metadata": {
    "execution": {
     "iopub.execute_input": "2022-03-02T06:30:34.748661Z",
     "iopub.status.busy": "2022-03-02T06:30:34.747990Z",
     "iopub.status.idle": "2022-03-02T06:30:34.763040Z",
     "shell.execute_reply": "2022-03-02T06:30:34.763537Z",
     "shell.execute_reply.started": "2022-03-02T06:21:04.755713Z"
    },
    "papermill": {
     "duration": 0.103331,
     "end_time": "2022-03-02T06:30:34.763709",
     "exception": false,
     "start_time": "2022-03-02T06:30:34.660378",
     "status": "completed"
    },
    "tags": []
   },
   "outputs": [],
   "source": [
    "import os\n",
    "import matplotlib.image as mpimg\n",
    "\n",
    "def view_article_trend(article_id_of_interest):\n",
    "    \n",
    "    # find image of article\n",
    "    file_path = '/kaggle/input/h-and-m-personalized-fashion-recommendations/images/0{}/0{}.jpg'.format(str(article_id_of_interest)[:2],article_id_of_interest)\n",
    "    if os.path.exists(file_path):\n",
    "        img = mpimg.imread(file_path)\n",
    "        #plt.imshow(img)\n",
    "    else:\n",
    "        img = None\n",
    "\n",
    "    # calculate the daily sales and average prices \n",
    "    article_daily_sales = df_transactions.groupby(['article_id','t_dat'])['article_id'].count()\n",
    "    article_daily_sales = article_daily_sales.reset_index(name='daily_sales')\n",
    "    article_daily_price = df_transactions.groupby(['article_id','t_dat'])['price'].mean()\n",
    "    article_daily_price = article_daily_price.reset_index(name='avg_price')\n",
    "    article_daily_price = article_daily_price[article_daily_price['article_id'] == article_id_of_interest]\n",
    "    article_daily_sales = article_daily_sales[article_daily_sales['article_id'] == article_id_of_interest]\n",
    "    article_daily_sales['avg_price'] = article_daily_price['avg_price']\n",
    "\n",
    "    # plot daily price vs sales\n",
    "    fig, (ax1, ax2) = plt.subplots(1, 2)\n",
    "    sns.scatterplot(x='avg_price',y='daily_sales',data=article_daily_sales, ax=ax1)\n",
    "    ax1.title.set_text('Price vs Sales of article {}'.format(article_id_of_interest))\n",
    "    # display image of article\n",
    "    if img is not None:\n",
    "        ax2.imshow(img)\n",
    "        ax2.title.set_text('Image of article {}'.format(article_id_of_interest))\n",
    "    else:\n",
    "        ax2.title.set_text('No image found.')\n",
    "        plt.show()\n",
    "\n",
    "    # plot temporal change in price and sales\n",
    "    fig, ax1 = plt.subplots()\n",
    "    ax1.plot(article_daily_sales['t_dat'], article_daily_sales['avg_price'], color='#2ca02c')\n",
    "    ax1.set_ylabel('Daily Average Price (scaled)', color='#2ca02c')\n",
    "    ax1.tick_params('y', colors='#2ca02c')\n",
    "    ax1.set_ylim(bottom=max(article_daily_sales['avg_price'].min()-article_daily_sales['avg_price'].mean(), 0))\n",
    "    ax2 = plt.twinx()\n",
    "    ax2.bar(article_daily_sales['t_dat'], article_daily_sales['daily_sales'], color='#17becf')\n",
    "    ax2.set_ylabel('Daily Sales', color='#17becf')\n",
    "    ax2.tick_params('y', colors='#17becf')\n",
    "    ax2.set_ylim(top=article_daily_sales['daily_sales'].max()+article_daily_sales['daily_sales'].mean())\n",
    "    plt.title('Daily Sales and Prices of article {}'.format(article_id_of_interest))\n",
    "    plt.show()\n",
    "\n",
    "    print('Article {}:'.format(article_id_of_interest))\n",
    "    print(list(df_articles[df_articles['article_id']==article_id_of_interest]['detail_desc'])[0])"
   ]
  },
  {
   "cell_type": "code",
   "execution_count": 33,
   "id": "1a44afa8",
   "metadata": {
    "execution": {
     "iopub.execute_input": "2022-03-02T06:30:34.937510Z",
     "iopub.status.busy": "2022-03-02T06:30:34.936781Z",
     "iopub.status.idle": "2022-03-02T06:30:44.060173Z",
     "shell.execute_reply": "2022-03-02T06:30:44.059646Z",
     "shell.execute_reply.started": "2022-03-02T06:21:04.770861Z"
    },
    "papermill": {
     "duration": 9.211932,
     "end_time": "2022-03-02T06:30:44.060306",
     "exception": false,
     "start_time": "2022-03-02T06:30:34.848374",
     "status": "completed"
    },
    "tags": []
   },
   "outputs": [
    {
     "data": {
      "image/png": "[encoded data removed]",
      "text/plain": [
       "<Figure size 1800x576 with 2 Axes>"
      ]
     },
     "metadata": {
      "needs_background": "light"
     },
     "output_type": "display_data"
    },
    {
     "data": {
      "image/png": "[encoded data removed]",
      "text/plain": [
       "<Figure size 1800x576 with 2 Axes>"
      ]
     },
     "metadata": {},
     "output_type": "display_data"
    },
    {
     "name": "stdout",
     "output_type": "stream",
     "text": [
      "Article 108775015:\n",
      "Jersey top with narrow shoulder straps.\n"
     ]
    }
   ],
   "source": [
    "view_article_trend(108775015) # [Insert article_id that we are interested in exploring]"
   ]
  },
  {
   "cell_type": "markdown",
   "id": "4dba3a6b",
   "metadata": {
    "papermill": {
     "duration": 0.097316,
     "end_time": "2022-03-02T06:30:44.253593",
     "exception": false,
     "start_time": "2022-03-02T06:30:44.156277",
     "status": "completed"
    },
    "tags": []
   },
   "source": [
    "For article 108775015, \n",
    "- From the scatterplot we can see that reducing its price does not increase its sales. \n",
    "- Looking at the daily trends, firstly we see that sales were higher in the first half of the year. The price dips in February till May cause spikes in sales. \n",
    "- Price dips occurred most significantly in the later part of the year, which is the winter season in the Northen Hemisphere. Looking at the image of the article, it is thus not surprising that sales were lower when the weather is cold.\n",
    "- One thing unusual is the low sales during summer (mid-May till August). Further data regarding marketing strategy, actual location of buyers (instead of encoded zip codes that do not give any geographical insights) may be helpful."
   ]
  },
  {
   "cell_type": "markdown",
   "id": "00cbdd40",
   "metadata": {
    "papermill": {
     "duration": 0.092676,
     "end_time": "2022-03-02T06:30:44.442176",
     "exception": false,
     "start_time": "2022-03-02T06:30:44.349500",
     "status": "completed"
    },
    "tags": []
   },
   "source": [
    "# Next Steps\n",
    "Some directions that I hope to work on moving forward:\n",
    "1. Frequent Pattern Mining - \"Customers who bought article A freqeuntly also bought ... \"\n",
    "2. Recommender System - Collaborative Filtering, Content-Based Recommendation"
   ]
  },
  {
   "cell_type": "code",
   "execution_count": null,
   "id": "c0c27041",
   "metadata": {
    "papermill": {
     "duration": 0.093327,
     "end_time": "2022-03-02T06:30:44.629076",
     "exception": false,
     "start_time": "2022-03-02T06:30:44.535749",
     "status": "completed"
    },
    "tags": []
   },
   "outputs": [],
   "source": []
  },
  {
   "cell_type": "code",
   "execution_count": null,
   "id": "c6c1c982",
   "metadata": {
    "papermill": {
     "duration": 0.091795,
     "end_time": "2022-03-02T06:30:44.813925",
     "exception": false,
     "start_time": "2022-03-02T06:30:44.722130",
     "status": "completed"
    },
    "tags": []
   },
   "outputs": [],
   "source": []
  },
  {
   "cell_type": "code",
   "execution_count": null,
   "id": "0305c391",
   "metadata": {
    "papermill": {
     "duration": 0.095517,
     "end_time": "2022-03-02T06:30:45.002432",
     "exception": false,
     "start_time": "2022-03-02T06:30:44.906915",
     "status": "completed"
    },
    "tags": []
   },
   "outputs": [],
   "source": []
  },
  {
   "cell_type": "code",
   "execution_count": null,
   "id": "6b94b83a",
   "metadata": {
    "papermill": {
     "duration": 0.093116,
     "end_time": "2022-03-02T06:30:45.188910",
     "exception": false,
     "start_time": "2022-03-02T06:30:45.095794",
     "status": "completed"
    },
    "tags": []
   },
   "outputs": [],
   "source": []
  }
 ],
 "metadata": {
  "kernelspec": {
   "display_name": "Python 3",
   "language": "python",
   "name": "python3"
  },
  "language_info": {
   "codemirror_mode": {
    "name": "ipython",
    "version": 3
   },
   "file_extension": ".py",
   "mimetype": "text/x-python",
   "name": "python",
   "nbconvert_exporter": "python",
   "pygments_lexer": "ipython3",
   "version": "3.7.12"
  },
  "papermill": {
   "default_parameters": {},
   "duration": 199.437105,
   "end_time": "2022-03-02T06:30:46.092897",
   "environment_variables": {},
   "exception": null,
   "input_path": "__notebook__.ipynb",
   "output_path": "__notebook__.ipynb",
   "parameters": {},
   "start_time": "2022-03-02T06:27:26.655792",
   "version": "2.3.3"
  }
 },
 "nbformat": 4,
 "nbformat_minor": 5
}
